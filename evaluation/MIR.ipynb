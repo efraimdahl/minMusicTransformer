{
 "cells": [
  {
   "cell_type": "markdown",
   "metadata": {},
   "source": [
    "## Dependencies"
   ]
  },
  {
   "cell_type": "code",
   "execution_count": 94,
   "metadata": {},
   "outputs": [],
   "source": [
    "import os\n",
    "import csv\n",
    "import pretty_midi as pm\n",
    "import pandas as pd\n",
    "import numpy as np\n",
    "import matplotlib.pyplot as plt\n",
    "import seaborn as sns\n",
    "from collections import Counter\n",
    "from tqdm import tqdm"
   ]
  },
  {
   "cell_type": "markdown",
   "metadata": {},
   "source": [
    "## Basic Statistics"
   ]
  },
  {
   "cell_type": "code",
   "execution_count": 54,
   "metadata": {},
   "outputs": [],
   "source": [
    "def load_midi(file_path):\n",
    "    \"\"\"\n",
    "    Load a MIDI file.\n",
    "\n",
    "    Parameters:\n",
    "        file_path (str): The path to the MIDI file.\n",
    "\n",
    "    Returns:\n",
    "        PrettyMIDI: A PrettyMIDI object representing the loaded MIDI file.\n",
    "    \"\"\"\n",
    "    midi_file = pm.PrettyMIDI(file_path)\n",
    "    return midi_file\n",
    "\n",
    "\n",
    "def get_midi_info(midi_file) -> list:\n",
    "    \"\"\"\n",
    "    Extract features from loaded MIDI file.\n",
    "\n",
    "    Parameters:\n",
    "        midi_file: A loaded MIDI file (instance of PrettyMIDI class)\n",
    "\n",
    "    Returns:\n",
    "        list containing extracted features     \n",
    "    \"\"\"\n",
    "    # Get the key of the MIDI file\n",
    "    try:\n",
    "        key = midi_file.key_signature_changes[0].key_number\n",
    "        key = pm.key_number_to_key_name(key)\n",
    "    except:\n",
    "        key = None\n",
    "    \n",
    "    # Get time signature\n",
    "    try:\n",
    "        time = midi_file.time_signature_changes[0]\n",
    "        time_signature = f'{time.numerator}/{time.denominator}'\n",
    "        # Get number of time signature changes\n",
    "        num_signature_changes = len(midi_file.time_signature_changes)\n",
    "    except:\n",
    "        time_signature = None\n",
    "        num_signature_changes = None\n",
    "\n",
    "    # Get tempo\n",
    "    try:\n",
    "        tempo = round(midi_file.estimate_tempo())\n",
    "        # Get tempo changes\n",
    "        num_tempo_changes = len(midi_file.get_tempo_changes())\n",
    "    except:\n",
    "        tempo = None\n",
    "        num_tempo_changes = None\n",
    "\n",
    "    # Find the highest and lowest notes\n",
    "    all_notes = [note for instrument in midi_file.instruments for note in instrument.notes]\n",
    "    \n",
    "    if all_notes:\n",
    "        # Find the highest and lowest notes\n",
    "        highest_note = max(all_notes, key=lambda note: note.pitch)\n",
    "        lowest_note = min(all_notes, key=lambda note: note.pitch)\n",
    "\n",
    "        highest_note = pm.note_number_to_name(highest_note.pitch)\n",
    "        lowest_note = pm.note_number_to_name(lowest_note.pitch)\n",
    "    else:\n",
    "        print(\"No notes found in the MIDI file.\")\n",
    "\n",
    "    # Get end time\n",
    "    end_time = round(midi_file.get_end_time())\n",
    "\n",
    "    # Get resolution\n",
    "    resolution = midi_file.resolution\n",
    "    \n",
    "    # Get enumeration of instruments\n",
    "    instruments = [i.name.strip() for i in midi_file.instruments]\n",
    "    \n",
    "    return [key, time_signature, num_signature_changes, tempo, num_tempo_changes, highest_note, lowest_note, end_time, resolution, instruments]"
   ]
  },
  {
   "cell_type": "code",
   "execution_count": 55,
   "metadata": {},
   "outputs": [
    {
     "name": "stderr",
     "output_type": "stream",
     "text": [
      "  0%|          | 0/18109 [00:00<?, ?it/s]/home/riemer/enter/lib/python3.9/site-packages/pretty_midi/pretty_midi.py:100: RuntimeWarning: Tempo, Key or Time signature change events found on non-zero tracks.  This is not a valid type 0 or type 1 MIDI file.  Tempo, Key or Time Signature may be wrong.\n",
      "  warnings.warn(\n",
      "  1%|▏         | 229/18109 [00:05<07:08, 41.73it/s]"
     ]
    },
    {
     "name": "stdout",
     "output_type": "stream",
     "text": [
      "Could not parse MIDI file vivaldi_4_stagioni_autunno_2_(c)pollen_2_7.mid: Can't provide a global tempo estimate when there are fewer than two notes.\n"
     ]
    },
    {
     "name": "stderr",
     "output_type": "stream",
     "text": [
      "  9%|▉         | 1715/18109 [00:43<05:44, 47.65it/s]"
     ]
    },
    {
     "name": "stdout",
     "output_type": "stream",
     "text": [
      "Could not parse MIDI file bach-js_chorales_069400b_(c)greentree_3_4.mid: Can't provide a global tempo estimate when there are fewer than two notes.\n"
     ]
    },
    {
     "name": "stderr",
     "output_type": "stream",
     "text": [
      " 12%|█▏        | 2263/18109 [00:56<05:55, 44.60it/s]"
     ]
    },
    {
     "name": "stdout",
     "output_type": "stream",
     "text": [
      "Could not parse MIDI file vivaldi_4_stagioni_autunno_2_(c)pollen_11_12.mid: Can't provide a global tempo estimate when there are fewer than two notes.\n"
     ]
    },
    {
     "name": "stderr",
     "output_type": "stream",
     "text": [
      " 23%|██▎       | 4153/18109 [01:43<08:58, 25.90it/s]"
     ]
    },
    {
     "name": "stdout",
     "output_type": "stream",
     "text": [
      "Could not parse MIDI file vivaldi_4_stagioni_autunno_2_(c)pollen_2_11.mid: Can't provide a global tempo estimate when there are fewer than two notes.\n"
     ]
    },
    {
     "name": "stderr",
     "output_type": "stream",
     "text": [
      " 24%|██▍       | 4390/18109 [01:49<05:07, 44.61it/s]"
     ]
    },
    {
     "name": "stdout",
     "output_type": "stream",
     "text": [
      "Could not parse MIDI file vivaldi_4_stagioni_autunno_2_(c)pollen_7_11.mid: Can't provide a global tempo estimate when there are fewer than two notes.\n"
     ]
    },
    {
     "name": "stderr",
     "output_type": "stream",
     "text": [
      " 27%|██▋       | 4924/18109 [02:02<04:34, 47.95it/s]"
     ]
    },
    {
     "name": "stdout",
     "output_type": "stream",
     "text": [
      "Could not parse MIDI file vivaldi_4_stagioni_autunno_2_(c)pollen_10_12.mid: Can't provide a global tempo estimate when there are fewer than two notes.\n"
     ]
    },
    {
     "name": "stderr",
     "output_type": "stream",
     "text": [
      " 32%|███▏      | 5754/18109 [02:21<04:24, 46.63it/s]"
     ]
    },
    {
     "name": "stdout",
     "output_type": "stream",
     "text": [
      "Could not parse MIDI file vivaldi_4_stagioni_autunno_2_(c)pollen_2_10.mid: Can't provide a global tempo estimate when there are fewer than two notes.\n"
     ]
    },
    {
     "name": "stderr",
     "output_type": "stream",
     "text": [
      " 36%|███▌      | 6545/18109 [02:40<03:06, 62.06it/s]"
     ]
    },
    {
     "name": "stdout",
     "output_type": "stream",
     "text": [
      "Could not parse MIDI file vivaldi_4_stagioni_autunno_2_(c)pollen_7_12.mid: Can't provide a global tempo estimate when there are fewer than two notes.\n"
     ]
    },
    {
     "name": "stderr",
     "output_type": "stream",
     "text": [
      " 39%|███▉      | 7068/18109 [02:53<04:27, 41.25it/s]"
     ]
    },
    {
     "name": "stdout",
     "output_type": "stream",
     "text": [
      "Could not parse MIDI file vivaldi_4_stagioni_autunno_2_(c)pollen_6_7.mid: Can't provide a global tempo estimate when there are fewer than two notes.\n"
     ]
    },
    {
     "name": "stderr",
     "output_type": "stream",
     "text": [
      " 41%|████      | 7446/18109 [03:02<04:18, 41.33it/s]"
     ]
    },
    {
     "name": "stdout",
     "output_type": "stream",
     "text": [
      "Could not parse MIDI file vivaldi_4_stagioni_autunno_2_(c)pollen_5_11.mid: Can't provide a global tempo estimate when there are fewer than two notes.\n"
     ]
    },
    {
     "name": "stderr",
     "output_type": "stream",
     "text": [
      " 42%|████▏     | 7548/18109 [03:04<03:25, 51.36it/s]"
     ]
    },
    {
     "name": "stdout",
     "output_type": "stream",
     "text": [
      "Could not parse MIDI file vivaldi_4_stagioni_autunno_2_(c)pollen_6_12.mid: Can't provide a global tempo estimate when there are fewer than two notes.\n"
     ]
    },
    {
     "name": "stderr",
     "output_type": "stream",
     "text": [
      " 49%|████▉     | 8935/18109 [03:37<02:44, 55.62it/s]"
     ]
    },
    {
     "name": "stdout",
     "output_type": "stream",
     "text": [
      "Could not parse MIDI file vivaldi_4_stagioni_autunno_2_(c)pollen_2_6.mid: Can't provide a global tempo estimate when there are fewer than two notes.\n"
     ]
    },
    {
     "name": "stderr",
     "output_type": "stream",
     "text": [
      " 55%|█████▌    | 10030/18109 [04:02<02:07, 63.56it/s]"
     ]
    },
    {
     "name": "stdout",
     "output_type": "stream",
     "text": [
      "Could not parse MIDI file vivaldi_4_stagioni_autunno_2_(c)pollen_5_6.mid: Can't provide a global tempo estimate when there are fewer than two notes.\n"
     ]
    },
    {
     "name": "stderr",
     "output_type": "stream",
     "text": [
      " 56%|█████▌    | 10104/18109 [04:04<04:44, 28.18it/s]"
     ]
    },
    {
     "name": "stdout",
     "output_type": "stream",
     "text": [
      "Could not parse MIDI file vivaldi_4_stagioni_autunno_2_(c)pollen_2_5.mid: Can't provide a global tempo estimate when there are fewer than two notes.\n"
     ]
    },
    {
     "name": "stderr",
     "output_type": "stream",
     "text": [
      " 56%|█████▌    | 10124/18109 [04:05<03:54, 34.06it/s]"
     ]
    },
    {
     "name": "stdout",
     "output_type": "stream",
     "text": [
      "Could not parse MIDI file vivaldi_4_stagioni_autunno_2_(c)pollen_7_10.mid: Can't provide a global tempo estimate when there are fewer than two notes.\n"
     ]
    },
    {
     "name": "stderr",
     "output_type": "stream",
     "text": [
      " 59%|█████▉    | 10760/18109 [04:20<02:29, 49.09it/s]"
     ]
    },
    {
     "name": "stdout",
     "output_type": "stream",
     "text": [
      "Could not parse MIDI file bach-js_chorales_069400b_(c)greentree_3_5.mid: Can't provide a global tempo estimate when there are fewer than two notes.\n"
     ]
    },
    {
     "name": "stderr",
     "output_type": "stream",
     "text": [
      " 66%|██████▌   | 11932/18109 [04:48<01:56, 53.19it/s]"
     ]
    },
    {
     "name": "stdout",
     "output_type": "stream",
     "text": [
      "Could not parse MIDI file vivaldi_4_stagioni_autunno_2_(c)pollen_5_7.mid: Can't provide a global tempo estimate when there are fewer than two notes.\n"
     ]
    },
    {
     "name": "stderr",
     "output_type": "stream",
     "text": [
      " 67%|██████▋   | 12130/18109 [04:53<02:10, 45.78it/s]"
     ]
    },
    {
     "name": "stdout",
     "output_type": "stream",
     "text": [
      "Could not parse MIDI file bach-js_chorales_069400b_(c)greentree_4_5.mid: Can't provide a global tempo estimate when there are fewer than two notes.\n"
     ]
    },
    {
     "name": "stderr",
     "output_type": "stream",
     "text": [
      " 69%|██████▉   | 12581/18109 [05:04<01:44, 52.91it/s]"
     ]
    },
    {
     "name": "stdout",
     "output_type": "stream",
     "text": [
      "Could not parse MIDI file vivaldi_4_stagioni_autunno_2_(c)pollen_2_12.mid: Can't provide a global tempo estimate when there are fewer than two notes.\n"
     ]
    },
    {
     "name": "stderr",
     "output_type": "stream",
     "text": [
      " 71%|███████   | 12836/18109 [05:11<02:33, 34.38it/s]"
     ]
    },
    {
     "name": "stdout",
     "output_type": "stream",
     "text": [
      "Could not parse MIDI file vivaldi_4_stagioni_autunno_2_(c)pollen_6_10.mid: Can't provide a global tempo estimate when there are fewer than two notes.\n"
     ]
    },
    {
     "name": "stderr",
     "output_type": "stream",
     "text": [
      " 71%|███████▏  | 12910/18109 [05:13<02:05, 41.28it/s]"
     ]
    },
    {
     "name": "stdout",
     "output_type": "stream",
     "text": [
      "Could not parse MIDI file vivaldi_4_stagioni_autunno_2_(c)pollen_10_11.mid: Can't provide a global tempo estimate when there are fewer than two notes.\n"
     ]
    },
    {
     "name": "stderr",
     "output_type": "stream",
     "text": [
      " 83%|████████▎ | 15051/18109 [06:04<01:02, 49.06it/s]"
     ]
    },
    {
     "name": "stdout",
     "output_type": "stream",
     "text": [
      "Could not parse MIDI file vivaldi_4_stagioni_autunno_2_(c)pollen_5_10.mid: Can't provide a global tempo estimate when there are fewer than two notes.\n"
     ]
    },
    {
     "name": "stderr",
     "output_type": "stream",
     "text": [
      " 88%|████████▊ | 15981/18109 [06:27<00:51, 41.61it/s]"
     ]
    },
    {
     "name": "stdout",
     "output_type": "stream",
     "text": [
      "Could not parse MIDI file vivaldi_4_stagioni_autunno_2_(c)pollen_5_12.mid: Can't provide a global tempo estimate when there are fewer than two notes.\n"
     ]
    },
    {
     "name": "stderr",
     "output_type": "stream",
     "text": [
      " 92%|█████████▏| 16702/18109 [06:49<00:34, 40.78it/s]"
     ]
    },
    {
     "name": "stdout",
     "output_type": "stream",
     "text": [
      "Could not parse MIDI file vivaldi_4_stagioni_autunno_2_(c)pollen_6_11.mid: Can't provide a global tempo estimate when there are fewer than two notes.\n"
     ]
    },
    {
     "name": "stderr",
     "output_type": "stream",
     "text": [
      "100%|██████████| 18109/18109 [07:24<00:00, 40.71it/s]\n"
     ]
    }
   ],
   "source": [
    "folder_path = 'data/baroque_large_trainset_twopart/midi'\n",
    "all_info = []\n",
    "\n",
    "for file in tqdm(os.listdir(folder_path)):\n",
    "    # Load midi file\n",
    "    try:\n",
    "        midi_file = load_midi(f'{folder_path}/{file}')\n",
    "    except (OSError, ValueError, IndexError, EOFError, ZeroDivisionError):\n",
    "        continue\n",
    "\n",
    "    # Get basic statistics\n",
    "    try:\n",
    "        midi_info = get_midi_info(midi_file)\n",
    "    except ValueError as e:\n",
    "        print(f\"Could not parse MIDI file {file}: {e}\")\n",
    "        continue\n",
    "\n",
    "    # Store statistics\n",
    "    all_info.append([file] + midi_info)"
   ]
  },
  {
   "cell_type": "code",
   "execution_count": 56,
   "metadata": {},
   "outputs": [],
   "source": [
    "# Write all midi info to csv file\n",
    "with open('statistics.csv', 'w', newline='') as csv_file:\n",
    "    csv_writer = csv.writer(csv_file)\n",
    "\n",
    "    # Write header\n",
    "    csv_writer.writerow(['File', 'Key', 'Time signature', 'Num time signature changes', 'Tempo', 'Num tempo changes', 'High note', 'Low note', 'End time', 'Resolution', 'Instruments'])\n",
    "\n",
    "    for info in all_info:\n",
    "        csv_writer.writerow(info)"
   ]
  },
  {
   "cell_type": "markdown",
   "metadata": {},
   "source": [
    "## Statistical Analysis"
   ]
  },
  {
   "cell_type": "code",
   "execution_count": 105,
   "metadata": {},
   "outputs": [],
   "source": [
    "data = pd.read_csv('statistics.csv')"
   ]
  },
  {
   "cell_type": "code",
   "execution_count": 106,
   "metadata": {},
   "outputs": [
    {
     "name": "stdout",
     "output_type": "stream",
     "text": [
      "<class 'pandas.core.frame.DataFrame'>\n",
      "RangeIndex: 18072 entries, 0 to 18071\n",
      "Data columns (total 11 columns):\n",
      " #   Column                      Non-Null Count  Dtype  \n",
      "---  ------                      --------------  -----  \n",
      " 0   File                        18072 non-null  object \n",
      " 1   Key                         13208 non-null  object \n",
      " 2   Time signature              17088 non-null  object \n",
      " 3   Num time signature changes  17088 non-null  float64\n",
      " 4   Tempo                       18072 non-null  int64  \n",
      " 5   Num tempo changes           18072 non-null  int64  \n",
      " 6   High note                   18072 non-null  object \n",
      " 7   Low note                    18072 non-null  object \n",
      " 8   End time                    18072 non-null  int64  \n",
      " 9   Resolution                  18072 non-null  int64  \n",
      " 10  Instruments                 18072 non-null  object \n",
      "dtypes: float64(1), int64(4), object(6)\n",
      "memory usage: 1.5+ MB\n"
     ]
    }
   ],
   "source": [
    "data.info()"
   ]
  },
  {
   "cell_type": "code",
   "execution_count": 107,
   "metadata": {},
   "outputs": [
    {
     "data": {
      "text/html": [
       "<div>\n",
       "<style scoped>\n",
       "    .dataframe tbody tr th:only-of-type {\n",
       "        vertical-align: middle;\n",
       "    }\n",
       "\n",
       "    .dataframe tbody tr th {\n",
       "        vertical-align: top;\n",
       "    }\n",
       "\n",
       "    .dataframe thead th {\n",
       "        text-align: right;\n",
       "    }\n",
       "</style>\n",
       "<table border=\"1\" class=\"dataframe\">\n",
       "  <thead>\n",
       "    <tr style=\"text-align: right;\">\n",
       "      <th></th>\n",
       "      <th>Num time signature changes</th>\n",
       "      <th>Tempo</th>\n",
       "      <th>Num tempo changes</th>\n",
       "      <th>End time</th>\n",
       "      <th>Resolution</th>\n",
       "    </tr>\n",
       "  </thead>\n",
       "  <tbody>\n",
       "    <tr>\n",
       "      <th>count</th>\n",
       "      <td>17088.000000</td>\n",
       "      <td>18072.000000</td>\n",
       "      <td>18072.0</td>\n",
       "      <td>18072.000000</td>\n",
       "      <td>18072.000000</td>\n",
       "    </tr>\n",
       "    <tr>\n",
       "      <th>mean</th>\n",
       "      <td>1.543305</td>\n",
       "      <td>156.702966</td>\n",
       "      <td>2.0</td>\n",
       "      <td>177.849546</td>\n",
       "      <td>519.277114</td>\n",
       "    </tr>\n",
       "    <tr>\n",
       "      <th>std</th>\n",
       "      <td>1.690273</td>\n",
       "      <td>44.894948</td>\n",
       "      <td>0.0</td>\n",
       "      <td>177.484512</td>\n",
       "      <td>340.096399</td>\n",
       "    </tr>\n",
       "    <tr>\n",
       "      <th>min</th>\n",
       "      <td>1.000000</td>\n",
       "      <td>32.000000</td>\n",
       "      <td>2.0</td>\n",
       "      <td>4.000000</td>\n",
       "      <td>48.000000</td>\n",
       "    </tr>\n",
       "    <tr>\n",
       "      <th>25%</th>\n",
       "      <td>1.000000</td>\n",
       "      <td>125.000000</td>\n",
       "      <td>2.0</td>\n",
       "      <td>71.000000</td>\n",
       "      <td>240.000000</td>\n",
       "    </tr>\n",
       "    <tr>\n",
       "      <th>50%</th>\n",
       "      <td>1.000000</td>\n",
       "      <td>157.000000</td>\n",
       "      <td>2.0</td>\n",
       "      <td>149.000000</td>\n",
       "      <td>384.000000</td>\n",
       "    </tr>\n",
       "    <tr>\n",
       "      <th>75%</th>\n",
       "      <td>1.000000</td>\n",
       "      <td>189.000000</td>\n",
       "      <td>2.0</td>\n",
       "      <td>228.000000</td>\n",
       "      <td>1024.000000</td>\n",
       "    </tr>\n",
       "    <tr>\n",
       "      <th>max</th>\n",
       "      <td>33.000000</td>\n",
       "      <td>298.000000</td>\n",
       "      <td>2.0</td>\n",
       "      <td>3750.000000</td>\n",
       "      <td>1024.000000</td>\n",
       "    </tr>\n",
       "  </tbody>\n",
       "</table>\n",
       "</div>"
      ],
      "text/plain": [
       "       Num time signature changes         Tempo  Num tempo changes  \\\n",
       "count                17088.000000  18072.000000            18072.0   \n",
       "mean                     1.543305    156.702966                2.0   \n",
       "std                      1.690273     44.894948                0.0   \n",
       "min                      1.000000     32.000000                2.0   \n",
       "25%                      1.000000    125.000000                2.0   \n",
       "50%                      1.000000    157.000000                2.0   \n",
       "75%                      1.000000    189.000000                2.0   \n",
       "max                     33.000000    298.000000                2.0   \n",
       "\n",
       "           End time    Resolution  \n",
       "count  18072.000000  18072.000000  \n",
       "mean     177.849546    519.277114  \n",
       "std      177.484512    340.096399  \n",
       "min        4.000000     48.000000  \n",
       "25%       71.000000    240.000000  \n",
       "50%      149.000000    384.000000  \n",
       "75%      228.000000   1024.000000  \n",
       "max     3750.000000   1024.000000  "
      ]
     },
     "execution_count": 107,
     "metadata": {},
     "output_type": "execute_result"
    }
   ],
   "source": [
    "data.describe()"
   ]
  },
  {
   "cell_type": "code",
   "execution_count": 109,
   "metadata": {},
   "outputs": [
    {
     "data": {
      "text/html": [
       "<div>\n",
       "<style scoped>\n",
       "    .dataframe tbody tr th:only-of-type {\n",
       "        vertical-align: middle;\n",
       "    }\n",
       "\n",
       "    .dataframe tbody tr th {\n",
       "        vertical-align: top;\n",
       "    }\n",
       "\n",
       "    .dataframe thead th {\n",
       "        text-align: right;\n",
       "    }\n",
       "</style>\n",
       "<table border=\"1\" class=\"dataframe\">\n",
       "  <thead>\n",
       "    <tr style=\"text-align: right;\">\n",
       "      <th></th>\n",
       "      <th>Num time signature changes</th>\n",
       "      <th>Tempo</th>\n",
       "      <th>Num tempo changes</th>\n",
       "      <th>End time</th>\n",
       "      <th>Resolution</th>\n",
       "    </tr>\n",
       "  </thead>\n",
       "  <tbody>\n",
       "    <tr>\n",
       "      <th>Num time signature changes</th>\n",
       "      <td>1.000000</td>\n",
       "      <td>0.011097</td>\n",
       "      <td>NaN</td>\n",
       "      <td>0.344433</td>\n",
       "      <td>-0.087576</td>\n",
       "    </tr>\n",
       "    <tr>\n",
       "      <th>Tempo</th>\n",
       "      <td>0.011097</td>\n",
       "      <td>1.000000</td>\n",
       "      <td>NaN</td>\n",
       "      <td>0.034382</td>\n",
       "      <td>-0.159710</td>\n",
       "    </tr>\n",
       "    <tr>\n",
       "      <th>Num tempo changes</th>\n",
       "      <td>NaN</td>\n",
       "      <td>NaN</td>\n",
       "      <td>NaN</td>\n",
       "      <td>NaN</td>\n",
       "      <td>NaN</td>\n",
       "    </tr>\n",
       "    <tr>\n",
       "      <th>End time</th>\n",
       "      <td>0.344433</td>\n",
       "      <td>0.034382</td>\n",
       "      <td>NaN</td>\n",
       "      <td>1.000000</td>\n",
       "      <td>-0.320579</td>\n",
       "    </tr>\n",
       "    <tr>\n",
       "      <th>Resolution</th>\n",
       "      <td>-0.087576</td>\n",
       "      <td>-0.159710</td>\n",
       "      <td>NaN</td>\n",
       "      <td>-0.320579</td>\n",
       "      <td>1.000000</td>\n",
       "    </tr>\n",
       "  </tbody>\n",
       "</table>\n",
       "</div>"
      ],
      "text/plain": [
       "                            Num time signature changes     Tempo  \\\n",
       "Num time signature changes                    1.000000  0.011097   \n",
       "Tempo                                         0.011097  1.000000   \n",
       "Num tempo changes                                  NaN       NaN   \n",
       "End time                                      0.344433  0.034382   \n",
       "Resolution                                   -0.087576 -0.159710   \n",
       "\n",
       "                            Num tempo changes  End time  Resolution  \n",
       "Num time signature changes                NaN  0.344433   -0.087576  \n",
       "Tempo                                     NaN  0.034382   -0.159710  \n",
       "Num tempo changes                         NaN       NaN         NaN  \n",
       "End time                                  NaN  1.000000   -0.320579  \n",
       "Resolution                                NaN -0.320579    1.000000  "
      ]
     },
     "execution_count": 109,
     "metadata": {},
     "output_type": "execute_result"
    }
   ],
   "source": [
    "data.corr(numeric_only=True)"
   ]
  },
  {
   "cell_type": "markdown",
   "metadata": {},
   "source": [
    "## Visualizations"
   ]
  },
  {
   "cell_type": "code",
   "execution_count": 103,
   "metadata": {},
   "outputs": [],
   "source": [
    "def plot_donut_chart(keys_counts):\n",
    "    \"\"\"\n",
    "    Plot a donut chart for keys and their counts.\n",
    "    \"\"\"\n",
    "    # Threshold for grouping keys into 'other' category\n",
    "    threshold_percentage = 2.0\n",
    "\n",
    "    # Filter out keys that appear in less than the threshold percentage\n",
    "    total_count = sum(keys_counts.values())\n",
    "    filtered_keys_counts = {key: count for key, count in keys_counts.items() if count / total_count >= threshold_percentage / 100.0}\n",
    "\n",
    "    # Group remaining keys into 'other' category\n",
    "    other_count = total_count - sum(filtered_keys_counts.values())\n",
    "    filtered_keys_counts['Other'] = other_count\n",
    "\n",
    "    labels, counts = zip(*filtered_keys_counts.items())\n",
    "\n",
    "    # Increase the figsize to make the donut chart bigger\n",
    "    fig, ax = plt.subplots(figsize=(8, 8))\n",
    "\n",
    "    ax.pie(counts, labels=labels, autopct='%1.2f%%', startangle=90, wedgeprops=dict(width=0.4))\n",
    "\n",
    "    # Draw a circle in the center to create a donut chart\n",
    "    centre_circle = plt.Circle((0, 0), 0.70, fc='white')\n",
    "    ax.add_patch(centre_circle)\n",
    "\n",
    "    ax.axis('equal')  \n",
    "    plt.title(\"Key Signature Distribution\", loc='left', fontweight='bold', fontsize=14)\n",
    "    plt.savefig('figures/key_signatures.png')\n",
    "    plt.show()\n",
    "\n",
    "\n",
    "def plot_boxplot(df_column, title, x_label, y_label, fig_out):\n",
    "    \"\"\"\n",
    "    Plot a boxplot for a DataFrame column.\n",
    "    \"\"\"\n",
    "    # Set Seaborn style\n",
    "    sns.set(style=\"whitegrid\")\n",
    "\n",
    "    # Create a boxplot for the DataFrame column\n",
    "    plt.figure(figsize=(12, 4))\n",
    "    sns.boxplot(x=df_column)\n",
    "\n",
    "    # Set titles and labels\n",
    "    plt.title(title, fontweight='bold')\n",
    "    plt.xlabel(x_label)\n",
    "    plt.ylabel(y_label)\n",
    "\n",
    "    plt.savefig(fig_out)\n",
    "    plt.show()"
   ]
  },
  {
   "cell_type": "code",
   "execution_count": 99,
   "metadata": {},
   "outputs": [
    {
     "data": {
      "image/png": "[encoded data removed]",
      "text/plain": [
       "<Figure size 800x800 with 1 Axes>"
      ]
     },
     "metadata": {},
     "output_type": "display_data"
    }
   ],
   "source": [
    "data = pd.read_csv('statistics.csv')\n",
    "\n",
    "# Obtain all keys\n",
    "keys_list = data['Key']\n",
    "\n",
    "# Count the occurrences of each key\n",
    "keys_counts = Counter(keys_list)\n",
    "\n",
    "# Plot donut chart\n",
    "plot_donut_chart(keys_counts)"
   ]
  },
  {
   "cell_type": "code",
   "execution_count": 104,
   "metadata": {},
   "outputs": [
    {
     "data": {
      "image/png": "[encoded data removed]",
      "text/plain": [
       "<Figure size 1200x400 with 1 Axes>"
      ]
     },
     "metadata": {},
     "output_type": "display_data"
    }
   ],
   "source": [
    "data = pd.read_csv('statistics.csv')\n",
    "\n",
    "# Obtain all end times\n",
    "end_times = data['End time']\n",
    "\n",
    "title = 'Boxplot of End Times'\n",
    "x_label = 'End time in seconds'\n",
    "y_label = ''\n",
    "fig_out = 'figures/end_times.png'\n",
    "\n",
    "plot_boxplot(end_times, title, x_label, y_label, fig_out)"
   ]
  }
 ],
 "metadata": {
  "kernelspec": {
   "display_name": "base",
   "language": "python",
   "name": "python3"
  },
  "language_info": {
   "codemirror_mode": {
    "name": "ipython",
    "version": 3
   },
   "file_extension": ".py",
   "mimetype": "text/x-python",
   "name": "python",
   "nbconvert_exporter": "python",
   "pygments_lexer": "ipython3",
   "version": "3.9.12"
  }
 },
 "nbformat": 4,
 "nbformat_minor": 2
}
