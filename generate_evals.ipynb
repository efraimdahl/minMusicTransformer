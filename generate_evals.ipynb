{
 "cells": [
  {
   "cell_type": "code",
   "execution_count": 16,
   "metadata": {},
   "outputs": [],
   "source": [
    "\n",
    "import matplotlib.pyplot as plt\n",
    "import numpy as np\n",
    "import torch\n",
    "import torch.utils.data\n",
    "import tqdm\n",
    "import muspy\n",
    "import src.utils as utils\n",
    "import src.representation as representation\n",
    "import src.dataset as dataset\n",
    "import src.music_x_transformers as music_x_transformers\n",
    "import pathlib\n",
    "import src.advUtils as advUtils\n",
    "import shutil\n",
    "import os\n",
    "import ast\n",
    "import re"
   ]
  },
  {
   "cell_type": "code",
   "execution_count": 17,
   "metadata": {},
   "outputs": [],
   "source": [
    "#load configurations\n",
    "train_args = utils.load_json(\"./pre_trained_models\\mmt_sod_ape_training_logs.json\")\n",
    "encoding = representation.load_encoding(\"encoding.json\")\n",
    "\n",
    "sos = encoding[\"type_code_map\"][\"start-of-song\"]\n",
    "eos = encoding[\"type_code_map\"][\"end-of-song\"]\n",
    "beat_0 = encoding[\"beat_code_map\"][0]\n",
    "beat_4 = encoding[\"beat_code_map\"][4]\n",
    "beat_16 = encoding[\"beat_code_map\"][16]"
   ]
  },
  {
   "cell_type": "code",
   "execution_count": 18,
   "metadata": {},
   "outputs": [],
   "source": [
    "data_set = advUtils.convert_extract_load(train_args,encoding, repr_dir=\"../preparedData/repr/test\")\n",
    "\n",
    "data_loader = torch.utils.data.DataLoader(\n",
    "    data_set,\n",
    "    shuffle=True,\n",
    "    num_workers=1,\n",
    "    collate_fn=dataset.MusicDataset.collate,\n",
    ")"
   ]
  },
  {
   "cell_type": "markdown",
   "metadata": {},
   "source": [
    "<h1>Sequence Prediction</h1>"
   ]
  },
  {
   "cell_type": "code",
   "execution_count": 19,
   "metadata": {},
   "outputs": [
    {
     "name": "stdout",
     "output_type": "stream",
     "text": [
      "Creating the model...\n"
     ]
    },
    {
     "data": {
      "text/plain": [
       "<All keys matched successfully>"
      ]
     },
     "execution_count": 19,
     "metadata": {},
     "output_type": "execute_result"
    }
   ],
   "source": [
    "# Load model\n",
    "device = torch.device(\"cpu\")\n",
    "print(f\"Creating the model...\")\n",
    "model = music_x_transformers.MusicXTransformer(\n",
    "    dim=train_args[\"dim\"],\n",
    "    encoding=encoding,\n",
    "    depth=train_args[\"layers\"],\n",
    "    heads=train_args[\"heads\"],\n",
    "    max_seq_len=train_args[\"max_seq_len\"],\n",
    "    max_beat=train_args[\"max_beat\"],\n",
    "    rotary_pos_emb=train_args[\"rel_pos_emb\"],\n",
    "    use_abs_pos_emb=train_args[\"abs_pos_emb\"],\n",
    "    emb_dropout=train_args[\"dropout\"],\n",
    "    attn_dropout=train_args[\"dropout\"],\n",
    "    ff_dropout=train_args[\"dropout\"],\n",
    ").to(device)\n",
    "model.load_state_dict(torch.load(\"../pre_trained_models/mmt/mmt_sod_ape_best_model.pt\", map_location=device))\n"
   ]
  },
  {
   "cell_type": "code",
   "execution_count": 20,
   "metadata": {},
   "outputs": [],
   "source": [
    "def generate(n,sample_dir,model=model,modes=[\"unconditioned\"],seq_len=1024,temperature=1,filter_logits=\"top_k\",filter_thresh=0.9):\n",
    "    with torch.no_grad():\n",
    "        data_iter = iter(data_loader)\n",
    "        for i in tqdm.tqdm(range(n), ncols=80):\n",
    "            batch = next(data_iter)\n",
    "            print(\"Generating based on\",batch['name'])\n",
    "            for mode in modes:\n",
    "                if(mode==\"unconditioned\"):\n",
    "                    tgt_start = torch.zeros((1, 1, 6), dtype=torch.long, device=device)\n",
    "                    tgt_start[:, 0, 0] = sos\n",
    "                elif(mode==\"instrument_informed\"):\n",
    "                    prefix_len = int(np.argmax(batch[\"seq\"][0, :, 1] >= beat_0))\n",
    "                    tgt_start = batch[\"seq\"][:1, :prefix_len].to(device)\n",
    "                elif(mode==\"4_beat\"):\n",
    "                    cond_len = int(np.argmax(batch[\"seq\"][0, :, 1] >= beat_4))\n",
    "                    tgt_start = batch[\"seq\"][:1, :cond_len].to(device)\n",
    "                elif(mode==\"16_beat\"):\n",
    "                    cond_len = int(np.argmax(batch[\"seq\"][0, :, 1] >= beat_16))\n",
    "                    tgt_start = batch[\"seq\"][:1, :cond_len].to(device)\n",
    "                # Generate new samples\n",
    "                generated = model.generate(\n",
    "                    tgt_start,\n",
    "                    seq_len,\n",
    "                    eos_token=eos,\n",
    "                    temperature=temperature,\n",
    "                    filter_logits_fn=filter_logits,\n",
    "                    filter_thres=filter_thresh,\n",
    "                    monotonicity_dim=(\"type\", \"beat\"),\n",
    "                )\n",
    "                generated_np = torch.cat((tgt_start, generated), 1).cpu().numpy()\n",
    "\n",
    "                # Save the results\n",
    "                advUtils.save_result(\n",
    "                    f\"{i}_{mode}\", generated_np[0], sample_dir, encoding,savecsv=False,savetxt=False,savenpy=False,savepng=False,savejson=False\n",
    "                )"
   ]
  },
  {
   "cell_type": "code",
   "execution_count": 21,
   "metadata": {},
   "outputs": [
    {
     "name": "stderr",
     "output_type": "stream",
     "text": [
      "  0%|                                                    | 0/10 [00:00<?, ?it/s]"
     ]
    },
    {
     "name": "stdout",
     "output_type": "stream",
     "text": [
      "Generating based on ['BeckerD-SS-6']\n"
     ]
    },
    {
     "name": "stderr",
     "output_type": "stream",
     "text": [
      " 10%|████▍                                       | 1/10 [01:09<10:21, 69.03s/it]"
     ]
    },
    {
     "name": "stdout",
     "output_type": "stream",
     "text": [
      "Generating based on ['BachJS-BWV849-1']\n"
     ]
    },
    {
     "name": "stderr",
     "output_type": "stream",
     "text": [
      " 20%|████████▊                                   | 2/10 [02:19<09:17, 69.69s/it]"
     ]
    },
    {
     "name": "stdout",
     "output_type": "stream",
     "text": [
      "Generating based on ['BuxtehudeD-BuxWV265-1']\n"
     ]
    },
    {
     "name": "stderr",
     "output_type": "stream",
     "text": [
      " 30%|█████████████▏                              | 3/10 [03:32<08:20, 71.44s/it]"
     ]
    },
    {
     "name": "stdout",
     "output_type": "stream",
     "text": [
      "Generating based on ['BachJS-BWV988-V05']\n"
     ]
    },
    {
     "name": "stderr",
     "output_type": "stream",
     "text": [
      " 40%|█████████████████▌                          | 4/10 [04:46<07:14, 72.44s/it]"
     ]
    },
    {
     "name": "stdout",
     "output_type": "stream",
     "text": [
      "Generating based on ['AlbinoniT-O6N02-3']\n"
     ]
    },
    {
     "name": "stderr",
     "output_type": "stream",
     "text": [
      " 50%|██████████████████████                      | 5/10 [05:55<05:56, 71.22s/it]"
     ]
    },
    {
     "name": "stdout",
     "output_type": "stream",
     "text": [
      "Generating based on ['AlbinoniT-O4N6-3']\n"
     ]
    },
    {
     "name": "stderr",
     "output_type": "stream",
     "text": [
      " 60%|██████████████████████████▍                 | 6/10 [06:53<04:26, 66.61s/it]"
     ]
    },
    {
     "name": "stdout",
     "output_type": "stream",
     "text": [
      "Generating based on ['BachJS-BWV885-2']\n"
     ]
    },
    {
     "name": "stderr",
     "output_type": "stream",
     "text": [
      " 70%|██████████████████████████████▊             | 7/10 [07:49<03:09, 63.29s/it]"
     ]
    },
    {
     "name": "stdout",
     "output_type": "stream",
     "text": [
      "Generating based on ['BachJS-BWV988-V15']\n"
     ]
    },
    {
     "name": "stderr",
     "output_type": "stream",
     "text": [
      " 80%|███████████████████████████████████▏        | 8/10 [08:47<02:03, 61.60s/it]"
     ]
    },
    {
     "name": "stdout",
     "output_type": "stream",
     "text": [
      "Generating based on ['BachJS-BWV858-2']\n"
     ]
    },
    {
     "name": "stderr",
     "output_type": "stream",
     "text": [
      " 90%|███████████████████████████████████████▌    | 9/10 [09:50<01:01, 61.86s/it]"
     ]
    },
    {
     "name": "stdout",
     "output_type": "stream",
     "text": [
      "Generating based on ['BuxtehudeD-BuxWV256-6']\n"
     ]
    },
    {
     "name": "stderr",
     "output_type": "stream",
     "text": [
      "100%|███████████████████████████████████████████| 10/10 [10:57<00:00, 65.75s/it]\n"
     ]
    }
   ],
   "source": [
    "generate(10,\"../generatedSamples/test_mmt\",seq_len=100,modes=[\"unconditioned\",\"instrument_informed\",\"beat_4\",\"beat_16\"])"
   ]
  }
 ],
 "metadata": {
  "kernelspec": {
   "display_name": "mtmt",
   "language": "python",
   "name": "python3"
  },
  "language_info": {
   "codemirror_mode": {
    "name": "ipython",
    "version": 3
   },
   "file_extension": ".py",
   "mimetype": "text/x-python",
   "name": "python",
   "nbconvert_exporter": "python",
   "pygments_lexer": "ipython3",
   "version": "3.9.18"
  }
 },
 "nbformat": 4,
 "nbformat_minor": 2
}
