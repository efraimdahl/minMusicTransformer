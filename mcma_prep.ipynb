{
 "cells": [
  {
   "cell_type": "code",
   "execution_count": 4,
   "metadata": {},
   "outputs": [
    {
     "name": "stderr",
     "output_type": "stream",
     "text": [
      "d:\\Programms\\Anaconda\\envs\\mtmt\\lib\\site-packages\\tqdm\\auto.py:22: TqdmWarning: IProgress not found. Please update jupyter and ipywidgets. See https://ipywidgets.readthedocs.io/en/stable/user_install.html\n",
      "  from .autonotebook import tqdm as notebook_tqdm\n"
     ]
    }
   ],
   "source": [
    "\n",
    "import matplotlib.pyplot as plt\n",
    "import numpy as np\n",
    "import muspy\n",
    "import ast"
   ]
  },
  {
   "cell_type": "code",
   "execution_count": 11,
   "metadata": {},
   "outputs": [
    {
     "name": "stdout",
     "output_type": "stream",
     "text": [
      "../mcma-master-mcma\\mcma\\bach_js\\the_well-tempered_clavier_book_I\\BachJS-BWV862-2.mxl\n",
      "../mcma-master-mcma\\mcma\\lully_jb\\persee\\LullyJB-LWV60-A4S04.mxl\n",
      "../mcma-master-mcma\\mcma\\lully_jb\\persee\\LullyJB-LWV60-A4S05-01.mxl\n",
      "../mcma-master-mcma\\mcma\\lully_jb\\persee\\LullyJB-LWV60-A4S05-02A.mxl\n",
      "../mcma-master-mcma\\mcma\\lully_jb\\persee\\LullyJB-LWV60-A4S05-02B.mxl\n"
     ]
    }
   ],
   "source": [
    "#Preparation of the MCMA data, transform from mxl to mid files.\n",
    "\n",
    "import os\n",
    "for path, subdirs, files in os.walk(\"../mcma-master-mcma\"):\n",
    "    for name in files:\n",
    "        if name.endswith(\".mxl\"):\n",
    "                filename = os.path.join(path, name)\n",
    "                try:\n",
    "                    music = muspy.inputs.read_musicxml(filename)\n",
    "                    nname=name.split(\".\")[0]\n",
    "                    music.write(\"../preparedData/\"+\"/mid/\"+f\"{nname}.mid\")\n",
    "                except:\n",
    "                    print(filename)\n",
    "            "
   ]
  },
  {
   "cell_type": "code",
   "execution_count": null,
   "metadata": {},
   "outputs": [],
   "source": [
    "#Preparation of the train split, based on a text file\n",
    "\n",
    "test_files=[]\n",
    "subdir = \"train\"\n",
    "with open(\"./evaluation/train_set.txt\") as file:\n",
    "    test_files = ast.literal_eval(file.read())\n",
    "\n",
    "print(test_files)\n",
    "\n",
    "for path, subdirs, files in os.walk(\"../preparedData\"):\n",
    "    for name in files:\n",
    "        if name.endswith(\".mid\"):\n",
    "            filename = os.path.join(path, name)\n",
    "            nname=name.split(\".\")[0]\n",
    "            if(nname) in test_files:\n",
    "                print(nname)\n",
    "                nfilename = os.path.join(path,subdir,name)\n",
    "                os.rename(filename,nfilename)\n",
    "                \n",
    "            "
   ]
  }
 ],
 "metadata": {
  "kernelspec": {
   "display_name": "mtmt",
   "language": "python",
   "name": "python3"
  },
  "language_info": {
   "codemirror_mode": {
    "name": "ipython",
    "version": 3
   },
   "file_extension": ".py",
   "mimetype": "text/x-python",
   "name": "python",
   "nbconvert_exporter": "python",
   "pygments_lexer": "ipython3",
   "version": "3.9.18"
  }
 },
 "nbformat": 4,
 "nbformat_minor": 2
}
