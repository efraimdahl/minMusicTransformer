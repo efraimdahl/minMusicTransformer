{
 "cells": [
  {
   "cell_type": "code",
   "execution_count": 1,
   "metadata": {},
   "outputs": [
    {
     "name": "stderr",
     "output_type": "stream",
     "text": [
      "/home/pcsmet/miniconda3/envs/mtmt/lib/python3.9/site-packages/tqdm/auto.py:22: TqdmWarning: IProgress not found. Please update jupyter and ipywidgets. See https://ipywidgets.readthedocs.io/en/stable/user_install.html\n",
      "  from .autonotebook import tqdm as notebook_tqdm\n"
     ]
    }
   ],
   "source": [
    "\n",
    "import matplotlib.pyplot as plt\n",
    "import numpy as np\n",
    "import torch\n",
    "import torch.utils.data\n",
    "from torchmetrics.functional.text import bleu_score\n",
    "import tqdm\n",
    "import muspy\n",
    "import src.utils as utils\n",
    "import src.representation as representation\n",
    "import src.dataset as dataset\n",
    "import src.music_x_transformers as music_x_transformers\n",
    "import pathlib\n",
    "import src.advUtils as advUtils\n",
    "import shutil\n",
    "import re\n"
   ]
  },
  {
   "cell_type": "code",
   "execution_count": 2,
   "metadata": {},
   "outputs": [],
   "source": [
    "#load configurations\n",
    "train_args = utils.load_json(r\"./pre_trained_models/mmt_sod_ape_training_logs.json\")\n",
    "encoding = representation.load_encoding(\"encoding.json\")\n",
    "\n",
    "sos = encoding[\"type_code_map\"][\"start-of-song\"]\n",
    "eos = encoding[\"type_code_map\"][\"end-of-song\"]\n",
    "beat_0 = encoding[\"beat_code_map\"][0]\n",
    "beat_4 = encoding[\"beat_code_map\"][4]\n",
    "beat_16 = encoding[\"beat_code_map\"][16]"
   ]
  },
  {
   "cell_type": "code",
   "execution_count": 3,
   "metadata": {},
   "outputs": [],
   "source": [
    "# Load training/testing/demo Data\n",
    "data_set = advUtils.convert_extract_load(train_args,encoding, midi_dir=pathlib.Path(\"../preparedData/mid\"), json_dir = \"./data/test/json\",repr_dir=\"./data/test/repr\")\n",
    "\n",
    "generator1 = torch.Generator().manual_seed(42)\n",
    "train_set, val_set, test_set = torch.utils.data.random_split(data_set, [400, 40, 10], generator=generator1)\n",
    "assert (set(re.sub(r\"[\\[\\]\\n']\", \"\", pathlib.Path(\"./val_set.txt\").read_text()).split(\", \"))) == (set([v['name'] for v in val_set])), \"mismatch in validation set\"\n",
    "data_loader = torch.utils.data.DataLoader(\n",
    "    data_set,\n",
    "    shuffle=True,\n",
    "    num_workers=1,\n",
    "    collate_fn=dataset.MusicDataset.collate,\n",
    ")\n",
    "\n",
    "test_loader = torch.utils.data.DataLoader(\n",
    "    test_set,\n",
    "    shuffle=True,\n",
    "    num_workers=1,\n",
    "    collate_fn=dataset.MusicDataset.collate,\n",
    ")\n",
    "train_loader = torch.utils.data.DataLoader(\n",
    "    train_set,\n",
    "    shuffle=True,\n",
    "    num_workers=1,\n",
    "    collate_fn=dataset.MusicDataset.collate,\n",
    ")\n",
    "valid_loader = torch.utils.data.DataLoader(\n",
    "    val_set,\n",
    "    shuffle=True,\n",
    "    num_workers=1,\n",
    "    collate_fn=dataset.MusicDataset.collate,\n",
    ")"
   ]
  },
  {
   "cell_type": "code",
   "execution_count": 4,
   "metadata": {},
   "outputs": [
    {
     "data": {
      "text/plain": [
       "{'AlbinoniT-O4N1-1',\n",
       " 'AlbinoniT-O4N1-2',\n",
       " 'AlbinoniT-O4N1-3',\n",
       " 'AlbinoniT-O4N1-4',\n",
       " 'AlbinoniT-O4N2-1',\n",
       " 'AlbinoniT-O4N2-2',\n",
       " 'AlbinoniT-O4N2-4',\n",
       " 'AlbinoniT-O4N3-1',\n",
       " 'AlbinoniT-O4N3-2',\n",
       " 'AlbinoniT-O4N3-3',\n",
       " 'AlbinoniT-O4N3-4',\n",
       " 'AlbinoniT-O4N4-2',\n",
       " 'AlbinoniT-O4N4-4',\n",
       " 'AlbinoniT-O4N5-1',\n",
       " 'AlbinoniT-O4N5-2',\n",
       " 'AlbinoniT-O4N5-3',\n",
       " 'AlbinoniT-O4N5-4',\n",
       " 'AlbinoniT-O4N6-1',\n",
       " 'AlbinoniT-O4N6-2',\n",
       " 'AlbinoniT-O4N6-4',\n",
       " 'AlbinoniT-O6N01-1',\n",
       " 'AlbinoniT-O6N01-2',\n",
       " 'AlbinoniT-O6N01-3',\n",
       " 'AlbinoniT-O6N01-4',\n",
       " 'AlbinoniT-O6N02-1',\n",
       " 'AlbinoniT-O6N02-2',\n",
       " 'AlbinoniT-O6N02-4',\n",
       " 'AlbinoniT-O6N03-1',\n",
       " 'AlbinoniT-O6N03-2',\n",
       " 'AlbinoniT-O6N03-3',\n",
       " 'AlbinoniT-O6N03-4',\n",
       " 'AlbinoniT-O6N04-1',\n",
       " 'AlbinoniT-O6N04-2',\n",
       " 'AlbinoniT-O6N04-3',\n",
       " 'AlbinoniT-O6N04-4',\n",
       " 'AlbinoniT-O6N05-1',\n",
       " 'AlbinoniT-O6N05-3',\n",
       " 'AlbinoniT-O6N05-4',\n",
       " 'AlbinoniT-O6N06-1',\n",
       " 'AlbinoniT-O6N06-2',\n",
       " 'AlbinoniT-O6N06-3',\n",
       " 'AlbinoniT-O6N06-4',\n",
       " 'AlbinoniT-O6N07-1',\n",
       " 'AlbinoniT-O6N07-2',\n",
       " 'AlbinoniT-O6N07-3',\n",
       " 'AlbinoniT-O6N07-4',\n",
       " 'AlbinoniT-O6N08-2',\n",
       " 'AlbinoniT-O6N08-3',\n",
       " 'AlbinoniT-O6N08-4',\n",
       " 'AlbinoniT-O6N09-1',\n",
       " 'AlbinoniT-O6N09-2',\n",
       " 'AlbinoniT-O6N09-3',\n",
       " 'AlbinoniT-O6N10-1',\n",
       " 'AlbinoniT-O6N10-2',\n",
       " 'AlbinoniT-O6N10-3',\n",
       " 'AlbinoniT-O6N10-4',\n",
       " 'AlbinoniT-O6N11-1',\n",
       " 'AlbinoniT-O6N11-2',\n",
       " 'AlbinoniT-O6N11-4',\n",
       " 'AlbinoniT-O6N12-1',\n",
       " 'AlbinoniT-O6N12-2',\n",
       " 'AlbinoniT-O6N12-3',\n",
       " 'AlbinoniT-O6N12-4',\n",
       " 'BachJS-BWV1080-C01',\n",
       " 'BachJS-BWV1080-C02',\n",
       " 'BachJS-BWV1080-C03',\n",
       " 'BachJS-BWV1080-C04',\n",
       " 'BachJS-BWV1080-C05',\n",
       " 'BachJS-BWV1080-C06',\n",
       " 'BachJS-BWV1080-C08',\n",
       " 'BachJS-BWV1080-C09',\n",
       " 'BachJS-BWV1080-C10',\n",
       " 'BachJS-BWV1080-C10A',\n",
       " 'BachJS-BWV1080-C11',\n",
       " 'BachJS-BWV1080-C12',\n",
       " 'BachJS-BWV1080-C13',\n",
       " 'BachJS-BWV1080-C14',\n",
       " 'BachJS-BWV1080-C15',\n",
       " 'BachJS-BWV1080-C17',\n",
       " 'BachJS-BWV1080-C17A',\n",
       " 'BachJS-BWV1080-C18',\n",
       " 'BachJS-BWV1080-C19',\n",
       " 'BachJS-BWV772',\n",
       " 'BachJS-BWV773',\n",
       " 'BachJS-BWV775',\n",
       " 'BachJS-BWV777',\n",
       " 'BachJS-BWV778',\n",
       " 'BachJS-BWV779',\n",
       " 'BachJS-BWV780',\n",
       " 'BachJS-BWV781',\n",
       " 'BachJS-BWV782',\n",
       " 'BachJS-BWV783',\n",
       " 'BachJS-BWV784',\n",
       " 'BachJS-BWV785',\n",
       " 'BachJS-BWV786',\n",
       " 'BachJS-BWV788',\n",
       " 'BachJS-BWV789',\n",
       " 'BachJS-BWV790',\n",
       " 'BachJS-BWV791',\n",
       " 'BachJS-BWV792',\n",
       " 'BachJS-BWV793',\n",
       " 'BachJS-BWV794',\n",
       " 'BachJS-BWV795',\n",
       " 'BachJS-BWV796',\n",
       " 'BachJS-BWV797',\n",
       " 'BachJS-BWV798',\n",
       " 'BachJS-BWV799',\n",
       " 'BachJS-BWV800',\n",
       " 'BachJS-BWV801',\n",
       " 'BachJS-BWV846-1',\n",
       " 'BachJS-BWV846-2',\n",
       " 'BachJS-BWV847-1',\n",
       " 'BachJS-BWV847-2',\n",
       " 'BachJS-BWV848-1',\n",
       " 'BachJS-BWV849-2',\n",
       " 'BachJS-BWV850-1',\n",
       " 'BachJS-BWV850-2',\n",
       " 'BachJS-BWV851-2',\n",
       " 'BachJS-BWV852-1',\n",
       " 'BachJS-BWV853-1',\n",
       " 'BachJS-BWV853-2',\n",
       " 'BachJS-BWV854-1',\n",
       " 'BachJS-BWV854-2',\n",
       " 'BachJS-BWV855-1',\n",
       " 'BachJS-BWV855-2',\n",
       " 'BachJS-BWV856-1',\n",
       " 'BachJS-BWV856-2',\n",
       " 'BachJS-BWV857-1',\n",
       " 'BachJS-BWV857-2',\n",
       " 'BachJS-BWV858-1',\n",
       " 'BachJS-BWV859-1',\n",
       " 'BachJS-BWV859-2',\n",
       " 'BachJS-BWV860-1',\n",
       " 'BachJS-BWV860-2',\n",
       " 'BachJS-BWV862-1',\n",
       " 'BachJS-BWV863-1',\n",
       " 'BachJS-BWV863-2',\n",
       " 'BachJS-BWV864-1',\n",
       " 'BachJS-BWV864-2',\n",
       " 'BachJS-BWV865-1',\n",
       " 'BachJS-BWV865-2',\n",
       " 'BachJS-BWV866-1',\n",
       " 'BachJS-BWV866-2',\n",
       " 'BachJS-BWV867-1',\n",
       " 'BachJS-BWV867-2',\n",
       " 'BachJS-BWV868-1',\n",
       " 'BachJS-BWV868-2',\n",
       " 'BachJS-BWV869-1',\n",
       " 'BachJS-BWV869-2',\n",
       " 'BachJS-BWV870-1',\n",
       " 'BachJS-BWV871-1',\n",
       " 'BachJS-BWV871-2',\n",
       " 'BachJS-BWV872-2',\n",
       " 'BachJS-BWV873-1',\n",
       " 'BachJS-BWV873-2',\n",
       " 'BachJS-BWV874-1',\n",
       " 'BachJS-BWV874-2',\n",
       " 'BachJS-BWV875-2',\n",
       " 'BachJS-BWV876-1',\n",
       " 'BachJS-BWV876-2',\n",
       " 'BachJS-BWV877-1',\n",
       " 'BachJS-BWV877-2',\n",
       " 'BachJS-BWV878-1',\n",
       " 'BachJS-BWV878-2',\n",
       " 'BachJS-BWV879-1',\n",
       " 'BachJS-BWV879-2',\n",
       " 'BachJS-BWV880-1',\n",
       " 'BachJS-BWV880-2',\n",
       " 'BachJS-BWV881-1',\n",
       " 'BachJS-BWV881-2',\n",
       " 'BachJS-BWV882-1',\n",
       " 'BachJS-BWV882-2',\n",
       " 'BachJS-BWV883-1',\n",
       " 'BachJS-BWV883-2',\n",
       " 'BachJS-BWV884-1',\n",
       " 'BachJS-BWV884-2',\n",
       " 'BachJS-BWV885-1',\n",
       " 'BachJS-BWV886-1',\n",
       " 'BachJS-BWV886-2',\n",
       " 'BachJS-BWV887-1',\n",
       " 'BachJS-BWV887-2',\n",
       " 'BachJS-BWV888-1',\n",
       " 'BachJS-BWV888-2',\n",
       " 'BachJS-BWV889-1',\n",
       " 'BachJS-BWV889-2',\n",
       " 'BachJS-BWV890-1',\n",
       " 'BachJS-BWV890-2',\n",
       " 'BachJS-BWV891-1',\n",
       " 'BachJS-BWV891-2',\n",
       " 'BachJS-BWV892-1',\n",
       " 'BachJS-BWV892-2',\n",
       " 'BachJS-BWV893-1',\n",
       " 'BachJS-BWV893-2',\n",
       " 'BachJS-BWV988-A',\n",
       " 'BachJS-BWV988-V01',\n",
       " 'BachJS-BWV988-V02',\n",
       " 'BachJS-BWV988-V03',\n",
       " 'BachJS-BWV988-V04',\n",
       " 'BachJS-BWV988-V06',\n",
       " 'BachJS-BWV988-V07',\n",
       " 'BachJS-BWV988-V08',\n",
       " 'BachJS-BWV988-V09',\n",
       " 'BachJS-BWV988-V10',\n",
       " 'BachJS-BWV988-V12',\n",
       " 'BachJS-BWV988-V13',\n",
       " 'BachJS-BWV988-V14',\n",
       " 'BachJS-BWV988-V16',\n",
       " 'BachJS-BWV988-V17',\n",
       " 'BachJS-BWV988-V18',\n",
       " 'BachJS-BWV988-V19',\n",
       " 'BachJS-BWV988-V20',\n",
       " 'BachJS-BWV988-V21',\n",
       " 'BachJS-BWV988-V22',\n",
       " 'BachJS-BWV988-V23',\n",
       " 'BachJS-BWV988-V24',\n",
       " 'BachJS-BWV988-V25',\n",
       " 'BachJS-BWV988-V26',\n",
       " 'BachJS-BWV988-V27',\n",
       " 'BachJS-BWV988-V28',\n",
       " 'BachJS-BWV988-V29',\n",
       " 'BachJS-BWV988-V30',\n",
       " 'BeckerD-SS-1',\n",
       " 'BeckerD-SS-10',\n",
       " 'BeckerD-SS-11',\n",
       " 'BeckerD-SS-12',\n",
       " 'BeckerD-SS-13',\n",
       " 'BeckerD-SS-14',\n",
       " 'BeckerD-SS-15',\n",
       " 'BeckerD-SS-16',\n",
       " 'BeckerD-SS-17',\n",
       " 'BeckerD-SS-18',\n",
       " 'BeckerD-SS-19',\n",
       " 'BeckerD-SS-2',\n",
       " 'BeckerD-SS-20',\n",
       " 'BeckerD-SS-22',\n",
       " 'BeckerD-SS-23',\n",
       " 'BeckerD-SS-24',\n",
       " 'BeckerD-SS-25',\n",
       " 'BeckerD-SS-26',\n",
       " 'BeckerD-SS-27',\n",
       " 'BeckerD-SS-29',\n",
       " 'BeckerD-SS-3',\n",
       " 'BeckerD-SS-30',\n",
       " 'BeckerD-SS-31',\n",
       " 'BeckerD-SS-33',\n",
       " 'BeckerD-SS-34',\n",
       " 'BeckerD-SS-35',\n",
       " 'BeckerD-SS-36',\n",
       " 'BeckerD-SS-37',\n",
       " 'BeckerD-SS-38',\n",
       " 'BeckerD-SS-39',\n",
       " 'BeckerD-SS-4',\n",
       " 'BeckerD-SS-40',\n",
       " 'BeckerD-SS-42',\n",
       " 'BeckerD-SS-44',\n",
       " 'BeckerD-SS-45',\n",
       " 'BeckerD-SS-5',\n",
       " 'BeckerD-SS-8',\n",
       " 'BeckerD-SS-9',\n",
       " 'BuxtehudeD-BuxWV252-1',\n",
       " 'BuxtehudeD-BuxWV252-2',\n",
       " 'BuxtehudeD-BuxWV252-3',\n",
       " 'BuxtehudeD-BuxWV252-4',\n",
       " 'BuxtehudeD-BuxWV252-5',\n",
       " 'BuxtehudeD-BuxWV252-6',\n",
       " 'BuxtehudeD-BuxWV253-1',\n",
       " 'BuxtehudeD-BuxWV253-3',\n",
       " 'BuxtehudeD-BuxWV253-5',\n",
       " 'BuxtehudeD-BuxWV254-1',\n",
       " 'BuxtehudeD-BuxWV254-3',\n",
       " 'BuxtehudeD-BuxWV254-4',\n",
       " 'BuxtehudeD-BuxWV254-5',\n",
       " 'BuxtehudeD-BuxWV254-6',\n",
       " 'BuxtehudeD-BuxWV255-1',\n",
       " 'BuxtehudeD-BuxWV255-2',\n",
       " 'BuxtehudeD-BuxWV255-3',\n",
       " 'BuxtehudeD-BuxWV256-1',\n",
       " 'BuxtehudeD-BuxWV256-2',\n",
       " 'BuxtehudeD-BuxWV256-3',\n",
       " 'BuxtehudeD-BuxWV256-5',\n",
       " 'BuxtehudeD-BuxWV257-10',\n",
       " 'BuxtehudeD-BuxWV257-2',\n",
       " 'BuxtehudeD-BuxWV257-3',\n",
       " 'BuxtehudeD-BuxWV257-8',\n",
       " 'BuxtehudeD-BuxWV257-9',\n",
       " 'BuxtehudeD-BuxWV258-1',\n",
       " 'BuxtehudeD-BuxWV258-3',\n",
       " 'BuxtehudeD-BuxWV258-4',\n",
       " 'BuxtehudeD-BuxWV258-6',\n",
       " 'BuxtehudeD-BuxWV258-8',\n",
       " 'BuxtehudeD-BuxWV259-2',\n",
       " 'BuxtehudeD-BuxWV259-3',\n",
       " 'BuxtehudeD-BuxWV259-4',\n",
       " 'BuxtehudeD-BuxWV259-7',\n",
       " 'BuxtehudeD-BuxWV260-2',\n",
       " 'BuxtehudeD-BuxWV260-4',\n",
       " 'BuxtehudeD-BuxWV260-5',\n",
       " 'BuxtehudeD-BuxWV260-6',\n",
       " 'BuxtehudeD-BuxWV261-1',\n",
       " 'BuxtehudeD-BuxWV261-3',\n",
       " 'BuxtehudeD-BuxWV261-4',\n",
       " 'BuxtehudeD-BuxWV261-6',\n",
       " 'BuxtehudeD-BuxWV262-1',\n",
       " 'BuxtehudeD-BuxWV262-5',\n",
       " 'BuxtehudeD-BuxWV263-2',\n",
       " 'BuxtehudeD-BuxWV263-3',\n",
       " 'BuxtehudeD-BuxWV263-4',\n",
       " 'BuxtehudeD-BuxWV263-5',\n",
       " 'BuxtehudeD-BuxWV263-6',\n",
       " 'BuxtehudeD-BuxWV263-7',\n",
       " 'BuxtehudeD-BuxWV264-2',\n",
       " 'BuxtehudeD-BuxWV264-3',\n",
       " 'BuxtehudeD-BuxWV264-4',\n",
       " 'BuxtehudeD-BuxWV264-5',\n",
       " 'BuxtehudeD-BuxWV264-6',\n",
       " 'BuxtehudeD-BuxWV265-2',\n",
       " 'BuxtehudeD-BuxWV265-3',\n",
       " 'BuxtehudeD-BuxWV265-4',\n",
       " 'BuxtehudeD-BuxWV265-5',\n",
       " 'BuxtehudeD-BuxWV265-6',\n",
       " 'LullyJB-LWV60-A0-01',\n",
       " 'LullyJB-LWV60-A0-02',\n",
       " 'LullyJB-LWV60-A0-03',\n",
       " 'LullyJB-LWV60-A0-04',\n",
       " 'LullyJB-LWV60-A0-05',\n",
       " 'LullyJB-LWV60-A0-06',\n",
       " 'LullyJB-LWV60-A0-07',\n",
       " 'LullyJB-LWV60-A0-08A',\n",
       " 'LullyJB-LWV60-A0-08B',\n",
       " 'LullyJB-LWV60-A0-10',\n",
       " 'LullyJB-LWV60-A0-11',\n",
       " 'LullyJB-LWV60-A0-12',\n",
       " 'LullyJB-LWV60-A0-13',\n",
       " 'LullyJB-LWV60-A1S01B',\n",
       " 'LullyJB-LWV60-A1S01C',\n",
       " 'LullyJB-LWV60-A1S02',\n",
       " 'LullyJB-LWV60-A1S03A',\n",
       " 'LullyJB-LWV60-A1S03B',\n",
       " 'LullyJB-LWV60-A1S04B',\n",
       " 'LullyJB-LWV60-A1S04C',\n",
       " 'LullyJB-LWV60-A1S04E',\n",
       " 'LullyJB-LWV60-A1S04F',\n",
       " 'LullyJB-LWV60-A1S05-01B',\n",
       " 'LullyJB-LWV60-A1S05-02',\n",
       " 'LullyJB-LWV60-A1S05-03',\n",
       " 'LullyJB-LWV60-A1S05-04',\n",
       " 'LullyJB-LWV60-A1S06-01',\n",
       " 'LullyJB-LWV60-A1S06-02',\n",
       " 'LullyJB-LWV60-A2S01A',\n",
       " 'LullyJB-LWV60-A2S01B',\n",
       " 'LullyJB-LWV60-A2S02',\n",
       " 'LullyJB-LWV60-A2S03',\n",
       " 'LullyJB-LWV60-A2S04B',\n",
       " 'LullyJB-LWV60-A2S05',\n",
       " 'LullyJB-LWV60-A2S06',\n",
       " 'LullyJB-LWV60-A2S07',\n",
       " 'LullyJB-LWV60-A2S08-01',\n",
       " 'LullyJB-LWV60-A2S08-02',\n",
       " 'LullyJB-LWV60-A2S09-02',\n",
       " 'LullyJB-LWV60-A2S10-01',\n",
       " 'LullyJB-LWV60-A2S10-03',\n",
       " 'LullyJB-LWV60-A2S10-04',\n",
       " 'LullyJB-LWV60-A3S01A',\n",
       " 'LullyJB-LWV60-A3S01B',\n",
       " 'LullyJB-LWV60-A3S01C',\n",
       " 'LullyJB-LWV60-A3S02B',\n",
       " 'LullyJB-LWV60-A3S02C',\n",
       " 'LullyJB-LWV60-A3S03-01',\n",
       " 'LullyJB-LWV60-A3S03-02',\n",
       " 'LullyJB-LWV60-A3S04-01',\n",
       " 'LullyJB-LWV60-A3S04-02',\n",
       " 'LullyJB-LWV60-A3S05',\n",
       " 'LullyJB-LWV60-A4S01B',\n",
       " 'LullyJB-LWV60-A4S02A',\n",
       " 'LullyJB-LWV60-A4S02B',\n",
       " 'LullyJB-LWV60-A4S02C',\n",
       " 'LullyJB-LWV60-A4S03A',\n",
       " 'LullyJB-LWV60-A4S03B',\n",
       " 'LullyJB-LWV60-A4S03C',\n",
       " 'LullyJB-LWV60-A4S06-01',\n",
       " 'LullyJB-LWV60-A4S06-02',\n",
       " 'LullyJB-LWV60-A4S06-03A',\n",
       " 'LullyJB-LWV60-A4S06-03B',\n",
       " 'LullyJB-LWV60-A5S01',\n",
       " 'LullyJB-LWV60-A5S02A',\n",
       " 'LullyJB-LWV60-A5S02B',\n",
       " 'LullyJB-LWV60-A5S03-01',\n",
       " 'LullyJB-LWV60-A5S03-02',\n",
       " 'LullyJB-LWV60-A5S04',\n",
       " 'LullyJB-LWV60-A5S05',\n",
       " 'LullyJB-LWV60-A5S06',\n",
       " 'LullyJB-LWV60-A5S07',\n",
       " 'LullyJB-LWV60-A5S08-01A',\n",
       " 'LullyJB-LWV60-A5S08-01B',\n",
       " 'LullyJB-LWV60-A5S08-01C',\n",
       " 'LullyJB-LWV60-A5S08-02',\n",
       " 'LullyJB-LWV60-A5S08-03',\n",
       " 'LullyJB-LWV60-A5S08-04',\n",
       " 'albinoni_sonate_da_chiesa_6_(c)icking-archive',\n",
       " 'anglebert_fugue_3_(c)mccoy'}"
      ]
     },
     "execution_count": 4,
     "metadata": {},
     "output_type": "execute_result"
    }
   ],
   "source": [
    "set([v['name'] for v in train_set])"
   ]
  },
  {
   "cell_type": "code",
   "execution_count": 8,
   "metadata": {},
   "outputs": [
    {
     "name": "stdout",
     "output_type": "stream",
     "text": [
      "Creating the model...\n",
      "Loaded the pretrained model weights\n"
     ]
    },
    {
     "data": {
      "text/plain": [
       "MusicXTransformer(\n",
       "  (decoder): MusicAutoregressiveWrapper(\n",
       "    (net): MusicTransformerWrapper(\n",
       "      (token_emb): ModuleList(\n",
       "        (0): TokenEmbedding(\n",
       "          (emb): Embedding(5, 512)\n",
       "        )\n",
       "        (1): TokenEmbedding(\n",
       "          (emb): Embedding(257, 512)\n",
       "        )\n",
       "        (2): TokenEmbedding(\n",
       "          (emb): Embedding(13, 512)\n",
       "        )\n",
       "        (3): TokenEmbedding(\n",
       "          (emb): Embedding(129, 512)\n",
       "        )\n",
       "        (4): TokenEmbedding(\n",
       "          (emb): Embedding(33, 512)\n",
       "        )\n",
       "        (5): TokenEmbedding(\n",
       "          (emb): Embedding(65, 512)\n",
       "        )\n",
       "      )\n",
       "      (pos_emb): AbsolutePositionalEmbedding(\n",
       "        (emb): Embedding(1024, 512)\n",
       "      )\n",
       "      (emb_dropout): Dropout(p=0.2, inplace=False)\n",
       "      (project_emb): Identity()\n",
       "      (attn_layers): Decoder(\n",
       "        (layers): ModuleList(\n",
       "          (0): ModuleList(\n",
       "            (0): ModuleList(\n",
       "              (0): LayerNorm((512,), eps=1e-05, elementwise_affine=True)\n",
       "              (1): None\n",
       "              (2): None\n",
       "            )\n",
       "            (1): Attention(\n",
       "              (to_q): Linear(in_features=512, out_features=512, bias=False)\n",
       "              (to_k): Linear(in_features=512, out_features=512, bias=False)\n",
       "              (to_v): Linear(in_features=512, out_features=512, bias=False)\n",
       "              (dropout): Dropout(p=0.2, inplace=False)\n",
       "              (to_out): Linear(in_features=512, out_features=512, bias=True)\n",
       "            )\n",
       "            (2): Residual()\n",
       "          )\n",
       "          (1): ModuleList(\n",
       "            (0): ModuleList(\n",
       "              (0): LayerNorm((512,), eps=1e-05, elementwise_affine=True)\n",
       "              (1): None\n",
       "              (2): None\n",
       "            )\n",
       "            (1): FeedForward(\n",
       "              (net): Sequential(\n",
       "                (0): Sequential(\n",
       "                  (0): Linear(in_features=512, out_features=2048, bias=True)\n",
       "                  (1): GELU()\n",
       "                )\n",
       "                (1): Identity()\n",
       "                (2): Dropout(p=0.2, inplace=False)\n",
       "                (3): Linear(in_features=2048, out_features=512, bias=True)\n",
       "              )\n",
       "            )\n",
       "            (2): Residual()\n",
       "          )\n",
       "          (2): ModuleList(\n",
       "            (0): ModuleList(\n",
       "              (0): LayerNorm((512,), eps=1e-05, elementwise_affine=True)\n",
       "              (1): None\n",
       "              (2): None\n",
       "            )\n",
       "            (1): Attention(\n",
       "              (to_q): Linear(in_features=512, out_features=512, bias=False)\n",
       "              (to_k): Linear(in_features=512, out_features=512, bias=False)\n",
       "              (to_v): Linear(in_features=512, out_features=512, bias=False)\n",
       "              (dropout): Dropout(p=0.2, inplace=False)\n",
       "              (to_out): Linear(in_features=512, out_features=512, bias=True)\n",
       "            )\n",
       "            (2): Residual()\n",
       "          )\n",
       "          (3): ModuleList(\n",
       "            (0): ModuleList(\n",
       "              (0): LayerNorm((512,), eps=1e-05, elementwise_affine=True)\n",
       "              (1): None\n",
       "              (2): None\n",
       "            )\n",
       "            (1): FeedForward(\n",
       "              (net): Sequential(\n",
       "                (0): Sequential(\n",
       "                  (0): Linear(in_features=512, out_features=2048, bias=True)\n",
       "                  (1): GELU()\n",
       "                )\n",
       "                (1): Identity()\n",
       "                (2): Dropout(p=0.2, inplace=False)\n",
       "                (3): Linear(in_features=2048, out_features=512, bias=True)\n",
       "              )\n",
       "            )\n",
       "            (2): Residual()\n",
       "          )\n",
       "          (4): ModuleList(\n",
       "            (0): ModuleList(\n",
       "              (0): LayerNorm((512,), eps=1e-05, elementwise_affine=True)\n",
       "              (1): None\n",
       "              (2): None\n",
       "            )\n",
       "            (1): Attention(\n",
       "              (to_q): Linear(in_features=512, out_features=512, bias=False)\n",
       "              (to_k): Linear(in_features=512, out_features=512, bias=False)\n",
       "              (to_v): Linear(in_features=512, out_features=512, bias=False)\n",
       "              (dropout): Dropout(p=0.2, inplace=False)\n",
       "              (to_out): Linear(in_features=512, out_features=512, bias=True)\n",
       "            )\n",
       "            (2): Residual()\n",
       "          )\n",
       "          (5): ModuleList(\n",
       "            (0): ModuleList(\n",
       "              (0): LayerNorm((512,), eps=1e-05, elementwise_affine=True)\n",
       "              (1): None\n",
       "              (2): None\n",
       "            )\n",
       "            (1): FeedForward(\n",
       "              (net): Sequential(\n",
       "                (0): Sequential(\n",
       "                  (0): Linear(in_features=512, out_features=2048, bias=True)\n",
       "                  (1): GELU()\n",
       "                )\n",
       "                (1): Identity()\n",
       "                (2): Dropout(p=0.2, inplace=False)\n",
       "                (3): Linear(in_features=2048, out_features=512, bias=True)\n",
       "              )\n",
       "            )\n",
       "            (2): Residual()\n",
       "          )\n",
       "          (6): ModuleList(\n",
       "            (0): ModuleList(\n",
       "              (0): LayerNorm((512,), eps=1e-05, elementwise_affine=True)\n",
       "              (1): None\n",
       "              (2): None\n",
       "            )\n",
       "            (1): Attention(\n",
       "              (to_q): Linear(in_features=512, out_features=512, bias=False)\n",
       "              (to_k): Linear(in_features=512, out_features=512, bias=False)\n",
       "              (to_v): Linear(in_features=512, out_features=512, bias=False)\n",
       "              (dropout): Dropout(p=0.2, inplace=False)\n",
       "              (to_out): Linear(in_features=512, out_features=512, bias=True)\n",
       "            )\n",
       "            (2): Residual()\n",
       "          )\n",
       "          (7): ModuleList(\n",
       "            (0): ModuleList(\n",
       "              (0): LayerNorm((512,), eps=1e-05, elementwise_affine=True)\n",
       "              (1): None\n",
       "              (2): None\n",
       "            )\n",
       "            (1): FeedForward(\n",
       "              (net): Sequential(\n",
       "                (0): Sequential(\n",
       "                  (0): Linear(in_features=512, out_features=2048, bias=True)\n",
       "                  (1): GELU()\n",
       "                )\n",
       "                (1): Identity()\n",
       "                (2): Dropout(p=0.2, inplace=False)\n",
       "                (3): Linear(in_features=2048, out_features=512, bias=True)\n",
       "              )\n",
       "            )\n",
       "            (2): Residual()\n",
       "          )\n",
       "          (8): ModuleList(\n",
       "            (0): ModuleList(\n",
       "              (0): LayerNorm((512,), eps=1e-05, elementwise_affine=True)\n",
       "              (1): None\n",
       "              (2): None\n",
       "            )\n",
       "            (1): Attention(\n",
       "              (to_q): Linear(in_features=512, out_features=512, bias=False)\n",
       "              (to_k): Linear(in_features=512, out_features=512, bias=False)\n",
       "              (to_v): Linear(in_features=512, out_features=512, bias=False)\n",
       "              (dropout): Dropout(p=0.2, inplace=False)\n",
       "              (to_out): Linear(in_features=512, out_features=512, bias=True)\n",
       "            )\n",
       "            (2): Residual()\n",
       "          )\n",
       "          (9): ModuleList(\n",
       "            (0): ModuleList(\n",
       "              (0): LayerNorm((512,), eps=1e-05, elementwise_affine=True)\n",
       "              (1): None\n",
       "              (2): None\n",
       "            )\n",
       "            (1): FeedForward(\n",
       "              (net): Sequential(\n",
       "                (0): Sequential(\n",
       "                  (0): Linear(in_features=512, out_features=2048, bias=True)\n",
       "                  (1): GELU()\n",
       "                )\n",
       "                (1): Identity()\n",
       "                (2): Dropout(p=0.2, inplace=False)\n",
       "                (3): Linear(in_features=2048, out_features=512, bias=True)\n",
       "              )\n",
       "            )\n",
       "            (2): Residual()\n",
       "          )\n",
       "          (10): ModuleList(\n",
       "            (0): ModuleList(\n",
       "              (0): LayerNorm((512,), eps=1e-05, elementwise_affine=True)\n",
       "              (1): None\n",
       "              (2): None\n",
       "            )\n",
       "            (1): Attention(\n",
       "              (to_q): Linear(in_features=512, out_features=512, bias=False)\n",
       "              (to_k): Linear(in_features=512, out_features=512, bias=False)\n",
       "              (to_v): Linear(in_features=512, out_features=512, bias=False)\n",
       "              (dropout): Dropout(p=0.2, inplace=False)\n",
       "              (to_out): Linear(in_features=512, out_features=512, bias=True)\n",
       "            )\n",
       "            (2): Residual()\n",
       "          )\n",
       "          (11): ModuleList(\n",
       "            (0): ModuleList(\n",
       "              (0): LayerNorm((512,), eps=1e-05, elementwise_affine=True)\n",
       "              (1): None\n",
       "              (2): None\n",
       "            )\n",
       "            (1): FeedForward(\n",
       "              (net): Sequential(\n",
       "                (0): Sequential(\n",
       "                  (0): Linear(in_features=512, out_features=2048, bias=True)\n",
       "                  (1): GELU()\n",
       "                )\n",
       "                (1): Identity()\n",
       "                (2): Dropout(p=0.2, inplace=False)\n",
       "                (3): Linear(in_features=2048, out_features=512, bias=True)\n",
       "              )\n",
       "            )\n",
       "            (2): Residual()\n",
       "          )\n",
       "        )\n",
       "      )\n",
       "      (norm): LayerNorm((512,), eps=1e-05, elementwise_affine=True)\n",
       "      (to_logits): ModuleList(\n",
       "        (0): Linear(in_features=512, out_features=5, bias=True)\n",
       "        (1): Linear(in_features=512, out_features=257, bias=True)\n",
       "        (2): Linear(in_features=512, out_features=13, bias=True)\n",
       "        (3): Linear(in_features=512, out_features=129, bias=True)\n",
       "        (4): Linear(in_features=512, out_features=33, bias=True)\n",
       "        (5): Linear(in_features=512, out_features=65, bias=True)\n",
       "      )\n",
       "    )\n",
       "  )\n",
       ")"
      ]
     },
     "execution_count": 8,
     "metadata": {},
     "output_type": "execute_result"
    }
   ],
   "source": [
    "# Load model\n",
    "device = torch.device(\"cuda\" if torch.cuda.is_available() else \"cpu\")\n",
    "print(f\"Creating the model...\")\n",
    "model = music_x_transformers.MusicXTransformer(\n",
    "    dim=train_args[\"dim\"],\n",
    "    encoding=encoding,\n",
    "    depth=train_args[\"layers\"],\n",
    "    heads=train_args[\"heads\"],\n",
    "    max_seq_len=train_args[\"max_seq_len\"],\n",
    "    max_beat=train_args[\"max_beat\"],\n",
    "    rotary_pos_emb=train_args[\"rel_pos_emb\"],\n",
    "    use_abs_pos_emb=train_args[\"abs_pos_emb\"],\n",
    "    emb_dropout=train_args[\"dropout\"],\n",
    "    attn_dropout=train_args[\"dropout\"],\n",
    "    ff_dropout=train_args[\"dropout\"],\n",
    ").to(device)\n",
    "\n",
    "origModel = music_x_transformers.MusicXTransformer(\n",
    "    dim=train_args[\"dim\"],\n",
    "    encoding=encoding,\n",
    "    depth=train_args[\"layers\"],\n",
    "    heads=train_args[\"heads\"],\n",
    "    max_seq_len=train_args[\"max_seq_len\"],\n",
    "    max_beat=train_args[\"max_beat\"],\n",
    "    rotary_pos_emb=train_args[\"rel_pos_emb\"],\n",
    "    use_abs_pos_emb=train_args[\"abs_pos_emb\"],\n",
    "    emb_dropout=train_args[\"dropout\"],\n",
    "    attn_dropout=train_args[\"dropout\"],\n",
    "    ff_dropout=train_args[\"dropout\"],\n",
    ").to(device)\n",
    "\n",
    "firstTrain = model\n",
    "origModel.load_state_dict(torch.load(\"./pre_trained_models/mmt_sod_ape_best_model.pt\", map_location=device))\n",
    "model.load_state_dict(torch.load(\"./pre_trained_models/mmt_sod_ape_best_model.pt\", map_location=device))\n",
    "\n",
    "print(f\"Loaded the pretrained model weights\")\n",
    "model.eval()"
   ]
  },
  {
   "cell_type": "code",
   "execution_count": 9,
   "metadata": {},
   "outputs": [],
   "source": [
    "def generate(n,sample_dir,model=model,modes=[\"unconditioned\"],seq_len=1024,temperature=1,filter_logits=\"top_k\",filter_thresh=0.9):\n",
    "    with torch.no_grad():\n",
    "        data_iter = iter(test_loader)\n",
    "        for i in tqdm.tqdm(range(n), ncols=80):\n",
    "            batch = next(data_iter)\n",
    "            print(\"Generating based on\",batch['name'])\n",
    "            for mode in modes:\n",
    "                if(mode==\"unconditioned\"):\n",
    "                    tgt_start = torch.zeros((1, 1, 6), dtype=torch.long, device=device)\n",
    "                    tgt_start[:, 0, 0] = sos\n",
    "                elif(mode==\"instrument_informed\"):\n",
    "                    prefix_len = int(np.argmax(batch[\"seq\"][0, :, 1] >= beat_0))\n",
    "                    tgt_start = batch[\"seq\"][:1, :prefix_len].to(device)\n",
    "                elif(mode==\"4_beat\"):\n",
    "                    cond_len = int(np.argmax(batch[\"seq\"][0, :, 1] >= beat_4))\n",
    "                    tgt_start = batch[\"seq\"][:1, :cond_len].to(device)\n",
    "                elif(mode==\"16_beat\"):\n",
    "                    cond_len = int(np.argmax(batch[\"seq\"][0, :, 1] >= beat_16))\n",
    "                    tgt_start = batch[\"seq\"][:1, :cond_len].to(device)\n",
    "                # Generate new samples\n",
    "                generated = model.generate(\n",
    "                    tgt_start,\n",
    "                    seq_len,\n",
    "                    eos_token=eos,\n",
    "                    temperature=temperature,\n",
    "                    filter_logits_fn=filter_logits,\n",
    "                    filter_thres=filter_thresh,\n",
    "                    monotonicity_dim=(\"type\", \"beat\"),\n",
    "                )\n",
    "                generated_np = torch.cat((tgt_start, generated), 1).cpu().numpy()\n",
    "\n",
    "                # Save the results\n",
    "                advUtils.save_result(\n",
    "                    f\"{i}_{mode}\", generated_np[0], sample_dir, encoding,savecsv=False,savetxt=False,savenpy=False,savepng=False,savejson=False\n",
    "                )"
   ]
  },
  {
   "cell_type": "code",
   "execution_count": 10,
   "metadata": {},
   "outputs": [],
   "source": [
    "#Test generation\n",
    "#generate(2,\"./samples\",seq_len=50,modes=[\"unconditioned\",\"instrument_informed\"])"
   ]
  },
  {
   "cell_type": "markdown",
   "metadata": {},
   "source": [
    "<h1>Transfer Learning</h1>"
   ]
  },
  {
   "cell_type": "code",
   "execution_count": 11,
   "metadata": {},
   "outputs": [
    {
     "data": {
      "text/plain": [
       "ModuleList(\n",
       "  (0): Linear(in_features=512, out_features=5, bias=True)\n",
       "  (1): Linear(in_features=512, out_features=257, bias=True)\n",
       "  (2): Linear(in_features=512, out_features=13, bias=True)\n",
       "  (3): Linear(in_features=512, out_features=129, bias=True)\n",
       "  (4): Linear(in_features=512, out_features=33, bias=True)\n",
       "  (5): Linear(in_features=512, out_features=65, bias=True)\n",
       ")"
      ]
     },
     "execution_count": 11,
     "metadata": {},
     "output_type": "execute_result"
    }
   ],
   "source": [
    "model.decoder.net.to_logits"
   ]
  },
  {
   "cell_type": "code",
   "execution_count": 12,
   "metadata": {},
   "outputs": [
    {
     "name": "stdout",
     "output_type": "stream",
     "text": [
      "ModuleList(\n",
      "  (0): Linear(in_features=512, out_features=5, bias=True)\n",
      "  (1): Linear(in_features=512, out_features=257, bias=True)\n",
      "  (2): Linear(in_features=512, out_features=13, bias=True)\n",
      "  (3): Linear(in_features=512, out_features=129, bias=True)\n",
      "  (4): Linear(in_features=512, out_features=33, bias=True)\n",
      "  (5): Linear(in_features=512, out_features=65, bias=True)\n",
      ")\n",
      "Number of parameters: 19944950\n",
      "Number of trainable parameters: 257526\n"
     ]
    }
   ],
   "source": [
    "#Freeze All network layers\n",
    "for m in model.parameters():\n",
    "    m.requires_grad = False\n",
    "\n",
    "new_heads = model.decoder.net.to_logits\n",
    "new_heads.requires_grad = True\n",
    "\n",
    "for child in new_heads.children():\n",
    "    child.reset_parameters()\n",
    "    for param in child.parameters():\n",
    "        param.requires_grad = True\n",
    "\n",
    "print(model.decoder.net.to_logits)\n",
    "\n",
    "\n",
    "n_parameters = sum(p.numel() for p in model.parameters())\n",
    "n_trainables = sum(\n",
    "   p.numel() for p in model.parameters() if p.requires_grad\n",
    ")\n",
    "print(f\"Number of parameters: {n_parameters}\")\n",
    "print(f\"Number of trainable parameters: {n_trainables}\")\n",
    "\n",
    "\n"
   ]
  },
  {
   "cell_type": "code",
   "execution_count": 13,
   "metadata": {},
   "outputs": [
    {
     "name": "stderr",
     "output_type": "stream",
     "text": [
      "  0%|                                                     | 0/2 [00:00<?, ?it/s]"
     ]
    },
    {
     "name": "stdout",
     "output_type": "stream",
     "text": [
      "Generating based on ['LullyJB-LWV60-A1S01A']\n"
     ]
    },
    {
     "name": "stderr",
     "output_type": "stream",
     "text": [
      " 50%|██████████████████████▌                      | 1/2 [00:03<00:03,  3.07s/it]"
     ]
    },
    {
     "name": "stdout",
     "output_type": "stream",
     "text": [
      "Generating based on ['BeckerD-SS-7']\n"
     ]
    },
    {
     "name": "stderr",
     "output_type": "stream",
     "text": [
      "100%|█████████████████████████████████████████████| 2/2 [00:05<00:00,  2.76s/it]\n",
      "  0%|                                                     | 0/2 [00:00<?, ?it/s]"
     ]
    },
    {
     "name": "stdout",
     "output_type": "stream",
     "text": [
      "Generating based on ['BuxtehudeD-BuxWV256-6']\n"
     ]
    },
    {
     "name": "stderr",
     "output_type": "stream",
     "text": [
      "100%|█████████████████████████████████████████████| 2/2 [00:00<00:00,  3.45it/s]"
     ]
    },
    {
     "name": "stdout",
     "output_type": "stream",
     "text": [
      "Generating based on ['BachJS-BWV1080-C16']\n"
     ]
    },
    {
     "name": "stderr",
     "output_type": "stream",
     "text": [
      "\n"
     ]
    }
   ],
   "source": [
    "#comparative generation:\n",
    "generate(2,\"./samples\",seq_len=50,model=origModel,modes=[\"unconditioned\",\"instrument_informed\",\"4_beat\",\"16_beat\"])\n",
    "generate(2,\"./samples2\",seq_len=50,model=firstTrain,modes=[\"unconditioned\",\"instrument_informed\",\"4_beat\",\"16_beat\"])"
   ]
  },
  {
   "cell_type": "code",
   "execution_count": 14,
   "metadata": {},
   "outputs": [],
   "source": [
    "#Training the model\n",
    "def get_lr_multiplier(\n",
    "    step, warmup_steps, decay_end_steps, decay_end_multiplier\n",
    "):\n",
    "    \"\"\"Return the learning rate multiplier with a warmup and decay schedule.\n",
    "\n",
    "    The learning rate multiplier starts from 0 and linearly increases to 1\n",
    "    after `warmup_steps`. After that, it linearly decreases to\n",
    "    `decay_end_multiplier` until `decay_end_steps` is reached.\n",
    "\n",
    "    \"\"\"\n",
    "    if step < warmup_steps:\n",
    "        return (step + 1) / warmup_steps\n",
    "    if step > decay_end_steps:\n",
    "        return decay_end_multiplier\n",
    "    position = (step - warmup_steps) / (decay_end_steps - warmup_steps)\n",
    "    return 1 - (1 - decay_end_multiplier) * position\n",
    "\n",
    "\n",
    "def train(out_dir,model):\n",
    "    \"\"\"Main function.\"\"\"\n",
    "    # Parse the command-line arguments\n",
    "\n",
    "    # Make sure the output directory exists\n",
    "    pathlib.Path(out_dir).mkdir(exist_ok=True)\n",
    "    pathlib.Path(out_dir+\"/checkpoints\").mkdir(exist_ok=True)\n",
    "    # Get the specified device\n",
    "    device = torch.device(\"cuda\" if torch.cuda.is_available() else \"cpu\")\n",
    "    \n",
    "\n",
    "    # Summarize the model\n",
    "    n_parameters = sum(p.numel() for p in model.parameters())\n",
    "    n_trainables = sum(\n",
    "        p.numel() for p in model.parameters() if p.requires_grad\n",
    "    )\n",
    "    print(f\"Number of parameters: {n_parameters}\")\n",
    "    print(f\"Number of trainable parameters: {n_trainables}\")\n",
    "\n",
    "    # Create the optimizer\n",
    "    optimizer = torch.optim.Adam(model.parameters(), train_args[\"learning_rate\"])\n",
    "    scheduler = torch.optim.lr_scheduler.LambdaLR(\n",
    "        optimizer,\n",
    "        lr_lambda=lambda step: get_lr_multiplier(\n",
    "            step,\n",
    "            train_args[\"lr_warmup_steps\"],\n",
    "            train_args[\"lr_decay_steps\"],\n",
    "            train_args[\"lr_decay_multiplier\"],\n",
    "        ),\n",
    "    )\n",
    "\n",
    "    # Create a file to record losses\n",
    "    loss_csv = open(out_dir+\"/loss.csv\", \"w\")\n",
    "    loss_csv.write(\n",
    "        \"step,train_loss,valid_loss,type_loss,beat_loss,position_loss,\"\n",
    "        \"pitch_loss,duration_loss,instrument_loss\\n\"\n",
    "    )\n",
    "    # Initialize variables\n",
    "    step = 0\n",
    "    min_val_loss = float(\"inf\")\n",
    "    if train_args[\"early_stopping\"]:\n",
    "        count_early_stopping = 0\n",
    "\n",
    "    # Iterate for the specified number of steps\n",
    "    train_iterator = iter(train_loader)\n",
    "    while step < train_args[\"steps\"]:\n",
    "\n",
    "        # Training\n",
    "        print(f\"Training...\")\n",
    "        model.train()\n",
    "        recent_losses = []\n",
    "\n",
    "        for batch in (pbar := tqdm.tqdm(range(train_args[\"valid_steps\"]), ncols=80)):\n",
    "            # Get next batch\n",
    "            try:\n",
    "                batch = next(train_iterator)\n",
    "            except StopIteration:\n",
    "                # Reinitialize dataset iterator\n",
    "                train_iterator = iter(train_loader)\n",
    "                batch = next(train_iterator)\n",
    "\n",
    "            # Get input and output pair\n",
    "            seq = batch[\"seq\"].to(device)\n",
    "            mask = batch[\"mask\"].to(device)\n",
    "\n",
    "            # Update the model parameters\n",
    "            optimizer.zero_grad()\n",
    "            loss = model(seq, mask=mask)\n",
    "            loss.backward()\n",
    "            torch.nn.utils.clip_grad_norm_(\n",
    "                model.parameters(), train_args[\"grad_norm_clip\"]\n",
    "            )\n",
    "            optimizer.step()\n",
    "            scheduler.step()\n",
    "\n",
    "            # Compute the moving average of the loss\n",
    "            recent_losses.append(float(loss))\n",
    "            if len(recent_losses) > 10:\n",
    "                del recent_losses[0]\n",
    "            train_loss = np.mean(recent_losses)\n",
    "            pbar.set_postfix(loss=f\"{train_loss:8.4f}\")\n",
    "\n",
    "            step += 1\n",
    "\n",
    "        # Release GPU memory right away\n",
    "        del seq, mask\n",
    "\n",
    "        # Validation\n",
    "        print(f\"Validating...\")\n",
    "        model.eval()\n",
    "        with torch.no_grad():\n",
    "            total_loss = 0\n",
    "            total_losses = [0] * 6\n",
    "            count = 0\n",
    "            for batch in valid_loader:\n",
    "                # Get input and output pair\n",
    "                seq = batch[\"seq\"].to(device)\n",
    "                mask = batch[\"mask\"].to(device)\n",
    "\n",
    "                # Pass through the model\n",
    "                loss, losses = model(seq, return_list=True, mask=mask)\n",
    "\n",
    "                # Accumulate validation loss\n",
    "                count += len(batch)\n",
    "                total_loss += len(batch) * float(loss)\n",
    "                for idx in range(6):\n",
    "                    total_losses[idx] += float(losses[idx])\n",
    "        val_loss = total_loss / count\n",
    "        individual_losses = [l / count for l in total_losses]\n",
    "        print(f\"Validation loss: {val_loss:.4f}\")\n",
    "        print(\n",
    "            f\"Individual losses: type={individual_losses[0]:.4f}, \"\n",
    "            f\"beat: {individual_losses[1]:.4f}, \"\n",
    "            f\"position: {individual_losses[2]:.4f}, \"\n",
    "            f\"pitch: {individual_losses[3]:.4f}, \"\n",
    "            f\"duration: {individual_losses[4]:.4f}, \"\n",
    "            f\"instrument: {individual_losses[5]:.4f}\"\n",
    "        )\n",
    "\n",
    "        # Release GPU memory right away\n",
    "        del seq, mask\n",
    "\n",
    "        # Write losses to file\n",
    "        loss_csv.write(\n",
    "            f\"{step},{train_loss},{val_loss},{individual_losses[0]},\"\n",
    "            f\"{individual_losses[1]},{individual_losses[2]},\"\n",
    "            f\"{individual_losses[3]},{individual_losses[4]},\"\n",
    "            f\"{individual_losses[5]}\\n\"\n",
    "        )\n",
    "\n",
    "        # Save the model\n",
    "        checkpoint_filename = out_dir+\"/checkpoints/\"+f\"model_{step}.pt\"\n",
    "        torch.save(model.state_dict(), checkpoint_filename)\n",
    "        print(f\"Saved the model to: {checkpoint_filename}\")\n",
    "\n",
    "        # Copy the model if it is the best model so far\n",
    "        if val_loss < min_val_loss:\n",
    "            min_val_loss = val_loss\n",
    "            shutil.copyfile(\n",
    "                checkpoint_filename,\n",
    "                out_dir+\"/checkpoints/\"+\"best_model.pt\",\n",
    "            )\n",
    "            # Reset the early stopping counter if we found a better model\n",
    "            if train_args[\"early_stopping\"]:\n",
    "                count_early_stopping = 0\n",
    "        elif train_args[\"early_stopping\"]:\n",
    "            # Increment the early stopping counter if no improvement is found\n",
    "            count_early_stopping += 1\n",
    "\n",
    "        # Early stopping\n",
    "        if (\n",
    "            train_args[\"early_stopping\"]\n",
    "            and count_early_stopping > train_args[\"early_stopping_tolerance\"]\n",
    "        ):\n",
    "            print(\n",
    "                \"Stopped the training for no improvements in \"\n",
    "                f\"{train_args['early_stopping_tolerance']} rounds.\"\n",
    "            )\n",
    "            break\n",
    "\n",
    "    # Log minimum validation loss\n",
    "    print(f\"Minimum validation loss achieved: {min_val_loss}\")\n",
    "\n",
    "    # Save the optimizer states\n",
    "    optimizer_filename = out_dir+\"/checkpoints/\"+f\"optimizer_{step}.pt\"\n",
    "    torch.save(optimizer.state_dict(), optimizer_filename)\n",
    "    print(f\"Saved the optimizer state to: {optimizer_filename}\")\n",
    "\n",
    "    # Save the scheduler states\n",
    "    scheduler_filename = out_dir+\"/checkpoints/\"+f\"scheduler_{step}.pt\"\n",
    "    torch.save(scheduler.state_dict(), scheduler_filename)\n",
    "    print(f\"Saved the scheduler state to: {scheduler_filename}\")\n",
    "\n",
    "    # Close the file\n",
    "    loss_csv.close()"
   ]
  },
  {
   "cell_type": "code",
   "execution_count": 15,
   "metadata": {},
   "outputs": [
    {
     "name": "stdout",
     "output_type": "stream",
     "text": [
      "Number of parameters: 19944950\n",
      "Number of trainable parameters: 257526\n",
      "Training...\n"
     ]
    },
    {
     "name": "stderr",
     "output_type": "stream",
     "text": [
      "100%|███████████████████████████| 100/100 [00:03<00:00, 31.22it/s, loss=13.5251]"
     ]
    },
    {
     "name": "stdout",
     "output_type": "stream",
     "text": [
      "Validating...\n"
     ]
    },
    {
     "name": "stderr",
     "output_type": "stream",
     "text": [
      "\n"
     ]
    },
    {
     "name": "stdout",
     "output_type": "stream",
     "text": [
      "Validation loss: 13.0341\n",
      "Individual losses: type=0.0796, beat: 1.1110, position: 0.2350, pitch: 0.8645, duration: 0.4636, instrument: 0.5048\n",
      "Saved the model to: experiment/checkpoints/model_100.pt\n",
      "Training...\n"
     ]
    },
    {
     "name": "stderr",
     "output_type": "stream",
     "text": [
      "100%|███████████████████████████| 100/100 [00:03<00:00, 33.11it/s, loss=11.6848]"
     ]
    },
    {
     "name": "stdout",
     "output_type": "stream",
     "text": [
      "Validating...\n"
     ]
    },
    {
     "name": "stderr",
     "output_type": "stream",
     "text": [
      "\n"
     ]
    },
    {
     "name": "stdout",
     "output_type": "stream",
     "text": [
      "Validation loss: 11.4938\n",
      "Individual losses: type=0.0536, beat: 1.0219, position: 0.1859, pitch: 0.7958, duration: 0.4096, instrument: 0.4067\n",
      "Saved the model to: experiment/checkpoints/model_200.pt\n",
      "Training...\n"
     ]
    },
    {
     "name": "stderr",
     "output_type": "stream",
     "text": [
      "100%|████████████████████████████| 100/100 [00:03<00:00, 32.35it/s, loss=9.1946]\n"
     ]
    },
    {
     "name": "stdout",
     "output_type": "stream",
     "text": [
      "Validating...\n",
      "Validation loss: 10.2931\n",
      "Individual losses: type=0.0385, beat: 0.9359, position: 0.1493, pitch: 0.7371, duration: 0.3686, instrument: 0.3438\n",
      "Saved the model to: experiment/checkpoints/model_300.pt\n",
      "Training...\n"
     ]
    },
    {
     "name": "stderr",
     "output_type": "stream",
     "text": [
      "100%|████████████████████████████| 100/100 [00:03<00:00, 31.90it/s, loss=9.6281]"
     ]
    },
    {
     "name": "stdout",
     "output_type": "stream",
     "text": [
      "Validating...\n"
     ]
    },
    {
     "name": "stderr",
     "output_type": "stream",
     "text": [
      "\n"
     ]
    },
    {
     "name": "stdout",
     "output_type": "stream",
     "text": [
      "Validation loss: 9.3046\n",
      "Individual losses: type=0.0293, beat: 0.8520, position: 0.1215, pitch: 0.6877, duration: 0.3372, instrument: 0.2985\n",
      "Saved the model to: experiment/checkpoints/model_400.pt\n",
      "Training...\n"
     ]
    },
    {
     "name": "stderr",
     "output_type": "stream",
     "text": [
      "100%|████████████████████████████| 100/100 [00:03<00:00, 27.72it/s, loss=8.9143]"
     ]
    },
    {
     "name": "stdout",
     "output_type": "stream",
     "text": [
      "Validating...\n"
     ]
    },
    {
     "name": "stderr",
     "output_type": "stream",
     "text": [
      "\n"
     ]
    },
    {
     "name": "stdout",
     "output_type": "stream",
     "text": [
      "Validation loss: 8.5142\n",
      "Individual losses: type=0.0235, beat: 0.7751, position: 0.1018, pitch: 0.6452, duration: 0.3147, instrument: 0.2683\n",
      "Saved the model to: experiment/checkpoints/model_500.pt\n",
      "Training...\n"
     ]
    },
    {
     "name": "stderr",
     "output_type": "stream",
     "text": [
      "100%|████████████████████████████| 100/100 [00:03<00:00, 29.03it/s, loss=7.7080]"
     ]
    },
    {
     "name": "stdout",
     "output_type": "stream",
     "text": [
      "Validating...\n"
     ]
    },
    {
     "name": "stderr",
     "output_type": "stream",
     "text": [
      "\n"
     ]
    },
    {
     "name": "stdout",
     "output_type": "stream",
     "text": [
      "Validation loss: 7.8635\n",
      "Individual losses: type=0.0197, beat: 0.7076, position: 0.0882, pitch: 0.6094, duration: 0.2978, instrument: 0.2432\n",
      "Saved the model to: experiment/checkpoints/model_600.pt\n",
      "Training...\n"
     ]
    },
    {
     "name": "stderr",
     "output_type": "stream",
     "text": [
      "100%|████████████████████████████| 100/100 [00:03<00:00, 30.26it/s, loss=7.7375]"
     ]
    },
    {
     "name": "stdout",
     "output_type": "stream",
     "text": [
      "Validating...\n"
     ]
    },
    {
     "name": "stderr",
     "output_type": "stream",
     "text": [
      "\n"
     ]
    },
    {
     "name": "stdout",
     "output_type": "stream",
     "text": [
      "Validation loss: 7.2408\n",
      "Individual losses: type=0.0170, beat: 0.6377, position: 0.0763, pitch: 0.5747, duration: 0.2823, instrument: 0.2222\n",
      "Saved the model to: experiment/checkpoints/model_700.pt\n",
      "Training...\n"
     ]
    },
    {
     "name": "stderr",
     "output_type": "stream",
     "text": [
      "100%|████████████████████████████| 100/100 [00:03<00:00, 29.15it/s, loss=6.5916]"
     ]
    },
    {
     "name": "stdout",
     "output_type": "stream",
     "text": [
      "Validating...\n"
     ]
    },
    {
     "name": "stderr",
     "output_type": "stream",
     "text": [
      "\n"
     ]
    },
    {
     "name": "stdout",
     "output_type": "stream",
     "text": [
      "Validation loss: 6.7219\n",
      "Individual losses: type=0.0147, beat: 0.5793, position: 0.0672, pitch: 0.5478, duration: 0.2703, instrument: 0.2011\n",
      "Saved the model to: experiment/checkpoints/model_800.pt\n",
      "Training...\n"
     ]
    },
    {
     "name": "stderr",
     "output_type": "stream",
     "text": [
      "100%|████████████████████████████| 100/100 [00:03<00:00, 29.83it/s, loss=5.9403]"
     ]
    },
    {
     "name": "stdout",
     "output_type": "stream",
     "text": [
      "Validating...\n"
     ]
    },
    {
     "name": "stderr",
     "output_type": "stream",
     "text": [
      "\n"
     ]
    },
    {
     "name": "stdout",
     "output_type": "stream",
     "text": [
      "Validation loss: 6.2338\n",
      "Individual losses: type=0.0131, beat: 0.5194, position: 0.0598, pitch: 0.5213, duration: 0.2591, instrument: 0.1859\n",
      "Saved the model to: experiment/checkpoints/model_900.pt\n",
      "Training...\n"
     ]
    },
    {
     "name": "stderr",
     "output_type": "stream",
     "text": [
      "100%|████████████████████████████| 100/100 [00:03<00:00, 30.57it/s, loss=6.9324]"
     ]
    },
    {
     "name": "stdout",
     "output_type": "stream",
     "text": [
      "Validating...\n"
     ]
    },
    {
     "name": "stderr",
     "output_type": "stream",
     "text": [
      "\n"
     ]
    },
    {
     "name": "stdout",
     "output_type": "stream",
     "text": [
      "Validation loss: 5.8343\n",
      "Individual losses: type=0.0118, beat: 0.4689, position: 0.0540, pitch: 0.5001, duration: 0.2504, instrument: 0.1734\n",
      "Saved the model to: experiment/checkpoints/model_1000.pt\n",
      "Training...\n"
     ]
    },
    {
     "name": "stderr",
     "output_type": "stream",
     "text": [
      "100%|████████████████████████████| 100/100 [00:03<00:00, 32.50it/s, loss=5.2975]"
     ]
    },
    {
     "name": "stdout",
     "output_type": "stream",
     "text": [
      "Validating...\n"
     ]
    },
    {
     "name": "stderr",
     "output_type": "stream",
     "text": [
      "\n"
     ]
    },
    {
     "name": "stdout",
     "output_type": "stream",
     "text": [
      "Validation loss: 5.4732\n",
      "Individual losses: type=0.0107, beat: 0.4247, position: 0.0493, pitch: 0.4815, duration: 0.2419, instrument: 0.1601\n",
      "Saved the model to: experiment/checkpoints/model_1100.pt\n",
      "Training...\n"
     ]
    },
    {
     "name": "stderr",
     "output_type": "stream",
     "text": [
      "100%|████████████████████████████| 100/100 [00:03<00:00, 31.02it/s, loss=5.3102]"
     ]
    },
    {
     "name": "stdout",
     "output_type": "stream",
     "text": [
      "Validating...\n"
     ]
    },
    {
     "name": "stderr",
     "output_type": "stream",
     "text": [
      "\n"
     ]
    },
    {
     "name": "stdout",
     "output_type": "stream",
     "text": [
      "Validation loss: 5.1485\n",
      "Individual losses: type=0.0097, beat: 0.3863, position: 0.0455, pitch: 0.4642, duration: 0.2355, instrument: 0.1461\n",
      "Saved the model to: experiment/checkpoints/model_1200.pt\n",
      "Training...\n"
     ]
    },
    {
     "name": "stderr",
     "output_type": "stream",
     "text": [
      "100%|████████████████████████████| 100/100 [00:03<00:00, 29.41it/s, loss=5.4957]"
     ]
    },
    {
     "name": "stdout",
     "output_type": "stream",
     "text": [
      "Validating...\n"
     ]
    },
    {
     "name": "stderr",
     "output_type": "stream",
     "text": [
      "\n"
     ]
    },
    {
     "name": "stdout",
     "output_type": "stream",
     "text": [
      "Validation loss: 4.8443\n",
      "Individual losses: type=0.0089, beat: 0.3474, position: 0.0418, pitch: 0.4479, duration: 0.2288, instrument: 0.1363\n",
      "Saved the model to: experiment/checkpoints/model_1300.pt\n",
      "Training...\n"
     ]
    },
    {
     "name": "stderr",
     "output_type": "stream",
     "text": [
      "100%|████████████████████████████| 100/100 [00:03<00:00, 30.75it/s, loss=5.0123]"
     ]
    },
    {
     "name": "stdout",
     "output_type": "stream",
     "text": [
      "Validating...\n"
     ]
    },
    {
     "name": "stderr",
     "output_type": "stream",
     "text": [
      "\n"
     ]
    },
    {
     "name": "stdout",
     "output_type": "stream",
     "text": [
      "Validation loss: 4.5968\n",
      "Individual losses: type=0.0082, beat: 0.3162, position: 0.0389, pitch: 0.4359, duration: 0.2227, instrument: 0.1272\n",
      "Saved the model to: experiment/checkpoints/model_1400.pt\n",
      "Training...\n"
     ]
    },
    {
     "name": "stderr",
     "output_type": "stream",
     "text": [
      "100%|████████████████████████████| 100/100 [00:03<00:00, 31.10it/s, loss=4.3545]"
     ]
    },
    {
     "name": "stdout",
     "output_type": "stream",
     "text": [
      "Validating...\n"
     ]
    },
    {
     "name": "stderr",
     "output_type": "stream",
     "text": [
      "\n"
     ]
    },
    {
     "name": "stdout",
     "output_type": "stream",
     "text": [
      "Validation loss: 4.3687\n",
      "Individual losses: type=0.0076, beat: 0.2865, position: 0.0364, pitch: 0.4241, duration: 0.2179, instrument: 0.1198\n",
      "Saved the model to: experiment/checkpoints/model_1500.pt\n",
      "Training...\n"
     ]
    },
    {
     "name": "stderr",
     "output_type": "stream",
     "text": [
      "100%|████████████████████████████| 100/100 [00:03<00:00, 30.40it/s, loss=5.4058]"
     ]
    },
    {
     "name": "stdout",
     "output_type": "stream",
     "text": [
      "Validating...\n"
     ]
    },
    {
     "name": "stderr",
     "output_type": "stream",
     "text": [
      "\n"
     ]
    },
    {
     "name": "stdout",
     "output_type": "stream",
     "text": [
      "Validation loss: 4.1565\n",
      "Individual losses: type=0.0071, beat: 0.2609, position: 0.0344, pitch: 0.4131, duration: 0.2136, instrument: 0.1100\n",
      "Saved the model to: experiment/checkpoints/model_1600.pt\n",
      "Training...\n"
     ]
    },
    {
     "name": "stderr",
     "output_type": "stream",
     "text": [
      "100%|████████████████████████████| 100/100 [00:03<00:00, 30.50it/s, loss=3.4045]"
     ]
    },
    {
     "name": "stdout",
     "output_type": "stream",
     "text": [
      "Validating...\n"
     ]
    },
    {
     "name": "stderr",
     "output_type": "stream",
     "text": [
      "\n"
     ]
    },
    {
     "name": "stdout",
     "output_type": "stream",
     "text": [
      "Validation loss: 3.9647\n",
      "Individual losses: type=0.0066, beat: 0.2382, position: 0.0327, pitch: 0.4034, duration: 0.2100, instrument: 0.1004\n",
      "Saved the model to: experiment/checkpoints/model_1700.pt\n",
      "Training...\n"
     ]
    },
    {
     "name": "stderr",
     "output_type": "stream",
     "text": [
      "100%|████████████████████████████| 100/100 [00:02<00:00, 34.73it/s, loss=5.2233]"
     ]
    },
    {
     "name": "stdout",
     "output_type": "stream",
     "text": [
      "Validating...\n"
     ]
    },
    {
     "name": "stderr",
     "output_type": "stream",
     "text": [
      "\n"
     ]
    },
    {
     "name": "stdout",
     "output_type": "stream",
     "text": [
      "Validation loss: 3.7964\n",
      "Individual losses: type=0.0061, beat: 0.2181, position: 0.0312, pitch: 0.3949, duration: 0.2059, instrument: 0.0929\n",
      "Saved the model to: experiment/checkpoints/model_1800.pt\n",
      "Training...\n"
     ]
    },
    {
     "name": "stderr",
     "output_type": "stream",
     "text": [
      "100%|████████████████████████████| 100/100 [00:03<00:00, 29.98it/s, loss=3.6565]"
     ]
    },
    {
     "name": "stdout",
     "output_type": "stream",
     "text": [
      "Validating...\n"
     ]
    },
    {
     "name": "stderr",
     "output_type": "stream",
     "text": [
      "\n"
     ]
    },
    {
     "name": "stdout",
     "output_type": "stream",
     "text": [
      "Validation loss: 3.6460\n",
      "Individual losses: type=0.0058, beat: 0.1985, position: 0.0294, pitch: 0.3866, duration: 0.2025, instrument: 0.0887\n",
      "Saved the model to: experiment/checkpoints/model_1900.pt\n",
      "Training...\n"
     ]
    },
    {
     "name": "stderr",
     "output_type": "stream",
     "text": [
      "100%|████████████████████████████| 100/100 [00:03<00:00, 30.46it/s, loss=4.1913]"
     ]
    },
    {
     "name": "stdout",
     "output_type": "stream",
     "text": [
      "Validating...\n"
     ]
    },
    {
     "name": "stderr",
     "output_type": "stream",
     "text": [
      "\n"
     ]
    },
    {
     "name": "stdout",
     "output_type": "stream",
     "text": [
      "Validation loss: 3.5130\n",
      "Individual losses: type=0.0055, beat: 0.1816, position: 0.0280, pitch: 0.3790, duration: 0.1992, instrument: 0.0849\n",
      "Saved the model to: experiment/checkpoints/model_2000.pt\n",
      "Training...\n"
     ]
    },
    {
     "name": "stderr",
     "output_type": "stream",
     "text": [
      "100%|████████████████████████████| 100/100 [00:03<00:00, 30.90it/s, loss=3.3606]"
     ]
    },
    {
     "name": "stdout",
     "output_type": "stream",
     "text": [
      "Validating...\n"
     ]
    },
    {
     "name": "stderr",
     "output_type": "stream",
     "text": [
      "\n"
     ]
    },
    {
     "name": "stdout",
     "output_type": "stream",
     "text": [
      "Validation loss: 3.3875\n",
      "Individual losses: type=0.0051, beat: 0.1674, position: 0.0270, pitch: 0.3725, duration: 0.1967, instrument: 0.0783\n",
      "Saved the model to: experiment/checkpoints/model_2100.pt\n",
      "Training...\n"
     ]
    },
    {
     "name": "stderr",
     "output_type": "stream",
     "text": [
      "100%|████████████████████████████| 100/100 [00:03<00:00, 31.14it/s, loss=3.5620]"
     ]
    },
    {
     "name": "stdout",
     "output_type": "stream",
     "text": [
      "Validating...\n"
     ]
    },
    {
     "name": "stderr",
     "output_type": "stream",
     "text": [
      "\n"
     ]
    },
    {
     "name": "stdout",
     "output_type": "stream",
     "text": [
      "Validation loss: 3.2765\n",
      "Individual losses: type=0.0048, beat: 0.1545, position: 0.0259, pitch: 0.3664, duration: 0.1942, instrument: 0.0733\n",
      "Saved the model to: experiment/checkpoints/model_2200.pt\n",
      "Training...\n"
     ]
    },
    {
     "name": "stderr",
     "output_type": "stream",
     "text": [
      "100%|████████████████████████████| 100/100 [00:03<00:00, 31.19it/s, loss=3.5027]"
     ]
    },
    {
     "name": "stdout",
     "output_type": "stream",
     "text": [
      "Validating...\n"
     ]
    },
    {
     "name": "stderr",
     "output_type": "stream",
     "text": [
      "\n"
     ]
    },
    {
     "name": "stdout",
     "output_type": "stream",
     "text": [
      "Validation loss: 3.1819\n",
      "Individual losses: type=0.0046, beat: 0.1427, position: 0.0251, pitch: 0.3610, duration: 0.1916, instrument: 0.0705\n",
      "Saved the model to: experiment/checkpoints/model_2300.pt\n",
      "Training...\n"
     ]
    },
    {
     "name": "stderr",
     "output_type": "stream",
     "text": [
      "100%|████████████████████████████| 100/100 [00:03<00:00, 31.83it/s, loss=2.9851]"
     ]
    },
    {
     "name": "stdout",
     "output_type": "stream",
     "text": [
      "Validating...\n"
     ]
    },
    {
     "name": "stderr",
     "output_type": "stream",
     "text": [
      "\n"
     ]
    },
    {
     "name": "stdout",
     "output_type": "stream",
     "text": [
      "Validation loss: 3.0914\n",
      "Individual losses: type=0.0043, beat: 0.1313, position: 0.0243, pitch: 0.3563, duration: 0.1895, instrument: 0.0672\n",
      "Saved the model to: experiment/checkpoints/model_2400.pt\n",
      "Training...\n"
     ]
    },
    {
     "name": "stderr",
     "output_type": "stream",
     "text": [
      "100%|████████████████████████████| 100/100 [00:03<00:00, 33.24it/s, loss=3.0971]"
     ]
    },
    {
     "name": "stdout",
     "output_type": "stream",
     "text": [
      "Validating...\n"
     ]
    },
    {
     "name": "stderr",
     "output_type": "stream",
     "text": [
      "\n"
     ]
    },
    {
     "name": "stdout",
     "output_type": "stream",
     "text": [
      "Validation loss: 3.0077\n",
      "Individual losses: type=0.0041, beat: 0.1218, position: 0.0235, pitch: 0.3515, duration: 0.1873, instrument: 0.0638\n",
      "Saved the model to: experiment/checkpoints/model_2500.pt\n",
      "Training...\n"
     ]
    },
    {
     "name": "stderr",
     "output_type": "stream",
     "text": [
      "100%|████████████████████████████| 100/100 [00:03<00:00, 31.05it/s, loss=3.1281]"
     ]
    },
    {
     "name": "stdout",
     "output_type": "stream",
     "text": [
      "Validating...\n"
     ]
    },
    {
     "name": "stderr",
     "output_type": "stream",
     "text": [
      "\n"
     ]
    },
    {
     "name": "stdout",
     "output_type": "stream",
     "text": [
      "Validation loss: 2.9351\n",
      "Individual losses: type=0.0039, beat: 0.1130, position: 0.0229, pitch: 0.3473, duration: 0.1856, instrument: 0.0610\n",
      "Saved the model to: experiment/checkpoints/model_2600.pt\n",
      "Training...\n"
     ]
    },
    {
     "name": "stderr",
     "output_type": "stream",
     "text": [
      "100%|████████████████████████████| 100/100 [00:03<00:00, 30.35it/s, loss=2.9945]"
     ]
    },
    {
     "name": "stdout",
     "output_type": "stream",
     "text": [
      "Validating...\n"
     ]
    },
    {
     "name": "stderr",
     "output_type": "stream",
     "text": [
      "\n"
     ]
    },
    {
     "name": "stdout",
     "output_type": "stream",
     "text": [
      "Validation loss: 2.8682\n",
      "Individual losses: type=0.0038, beat: 0.1051, position: 0.0224, pitch: 0.3434, duration: 0.1838, instrument: 0.0586\n",
      "Saved the model to: experiment/checkpoints/model_2700.pt\n",
      "Training...\n"
     ]
    },
    {
     "name": "stderr",
     "output_type": "stream",
     "text": [
      "100%|████████████████████████████| 100/100 [00:03<00:00, 30.78it/s, loss=3.3114]"
     ]
    },
    {
     "name": "stdout",
     "output_type": "stream",
     "text": [
      "Validating...\n"
     ]
    },
    {
     "name": "stderr",
     "output_type": "stream",
     "text": [
      "\n"
     ]
    },
    {
     "name": "stdout",
     "output_type": "stream",
     "text": [
      "Validation loss: 2.8032\n",
      "Individual losses: type=0.0035, beat: 0.0987, position: 0.0219, pitch: 0.3403, duration: 0.1823, instrument: 0.0541\n",
      "Saved the model to: experiment/checkpoints/model_2800.pt\n",
      "Training...\n"
     ]
    },
    {
     "name": "stderr",
     "output_type": "stream",
     "text": [
      "100%|████████████████████████████| 100/100 [00:03<00:00, 30.07it/s, loss=3.3587]"
     ]
    },
    {
     "name": "stdout",
     "output_type": "stream",
     "text": [
      "Validating...\n"
     ]
    },
    {
     "name": "stderr",
     "output_type": "stream",
     "text": [
      "\n"
     ]
    },
    {
     "name": "stdout",
     "output_type": "stream",
     "text": [
      "Validation loss: 2.7431\n",
      "Individual losses: type=0.0034, beat: 0.0921, position: 0.0214, pitch: 0.3371, duration: 0.1808, instrument: 0.0510\n",
      "Saved the model to: experiment/checkpoints/model_2900.pt\n",
      "Training...\n"
     ]
    },
    {
     "name": "stderr",
     "output_type": "stream",
     "text": [
      "100%|████████████████████████████| 100/100 [00:03<00:00, 31.57it/s, loss=3.2053]"
     ]
    },
    {
     "name": "stdout",
     "output_type": "stream",
     "text": [
      "Validating...\n"
     ]
    },
    {
     "name": "stderr",
     "output_type": "stream",
     "text": [
      "\n"
     ]
    },
    {
     "name": "stdout",
     "output_type": "stream",
     "text": [
      "Validation loss: 2.6880\n",
      "Individual losses: type=0.0032, beat: 0.0860, position: 0.0210, pitch: 0.3339, duration: 0.1795, instrument: 0.0483\n",
      "Saved the model to: experiment/checkpoints/model_3000.pt\n",
      "Training...\n"
     ]
    },
    {
     "name": "stderr",
     "output_type": "stream",
     "text": [
      "100%|████████████████████████████| 100/100 [00:03<00:00, 30.43it/s, loss=3.1215]\n"
     ]
    },
    {
     "name": "stdout",
     "output_type": "stream",
     "text": [
      "Validating...\n",
      "Validation loss: 2.6418\n",
      "Individual losses: type=0.0031, beat: 0.0812, position: 0.0206, pitch: 0.3309, duration: 0.1783, instrument: 0.0463\n",
      "Saved the model to: experiment/checkpoints/model_3100.pt\n",
      "Training...\n"
     ]
    },
    {
     "name": "stderr",
     "output_type": "stream",
     "text": [
      "100%|████████████████████████████| 100/100 [00:03<00:00, 30.91it/s, loss=3.1533]"
     ]
    },
    {
     "name": "stdout",
     "output_type": "stream",
     "text": [
      "Validating...\n"
     ]
    },
    {
     "name": "stderr",
     "output_type": "stream",
     "text": [
      "\n"
     ]
    },
    {
     "name": "stdout",
     "output_type": "stream",
     "text": [
      "Validation loss: 2.5996\n",
      "Individual losses: type=0.0030, beat: 0.0768, position: 0.0203, pitch: 0.3284, duration: 0.1769, instrument: 0.0445\n",
      "Saved the model to: experiment/checkpoints/model_3200.pt\n",
      "Training...\n"
     ]
    },
    {
     "name": "stderr",
     "output_type": "stream",
     "text": [
      "100%|████████████████████████████| 100/100 [00:03<00:00, 30.57it/s, loss=2.2939]"
     ]
    },
    {
     "name": "stdout",
     "output_type": "stream",
     "text": [
      "Validating...\n"
     ]
    },
    {
     "name": "stderr",
     "output_type": "stream",
     "text": [
      "\n"
     ]
    },
    {
     "name": "stdout",
     "output_type": "stream",
     "text": [
      "Validation loss: 2.5622\n",
      "Individual losses: type=0.0029, beat: 0.0725, position: 0.0200, pitch: 0.3262, duration: 0.1758, instrument: 0.0431\n",
      "Saved the model to: experiment/checkpoints/model_3300.pt\n",
      "Training...\n"
     ]
    },
    {
     "name": "stderr",
     "output_type": "stream",
     "text": [
      "100%|████████████████████████████| 100/100 [00:02<00:00, 33.46it/s, loss=3.2543]"
     ]
    },
    {
     "name": "stdout",
     "output_type": "stream",
     "text": [
      "Validating...\n"
     ]
    },
    {
     "name": "stderr",
     "output_type": "stream",
     "text": [
      "\n"
     ]
    },
    {
     "name": "stdout",
     "output_type": "stream",
     "text": [
      "Validation loss: 2.5271\n",
      "Individual losses: type=0.0028, beat: 0.0685, position: 0.0197, pitch: 0.3242, duration: 0.1747, instrument: 0.0419\n",
      "Saved the model to: experiment/checkpoints/model_3400.pt\n",
      "Training...\n"
     ]
    },
    {
     "name": "stderr",
     "output_type": "stream",
     "text": [
      "100%|████████████████████████████| 100/100 [00:03<00:00, 30.38it/s, loss=2.3810]"
     ]
    },
    {
     "name": "stdout",
     "output_type": "stream",
     "text": [
      "Validating...\n"
     ]
    },
    {
     "name": "stderr",
     "output_type": "stream",
     "text": [
      "\n"
     ]
    },
    {
     "name": "stdout",
     "output_type": "stream",
     "text": [
      "Validation loss: 2.4895\n",
      "Individual losses: type=0.0027, beat: 0.0648, position: 0.0194, pitch: 0.3220, duration: 0.1739, instrument: 0.0395\n",
      "Saved the model to: experiment/checkpoints/model_3500.pt\n",
      "Training...\n"
     ]
    },
    {
     "name": "stderr",
     "output_type": "stream",
     "text": [
      "100%|████████████████████████████| 100/100 [00:03<00:00, 29.48it/s, loss=2.8175]"
     ]
    },
    {
     "name": "stdout",
     "output_type": "stream",
     "text": [
      "Validating...\n"
     ]
    },
    {
     "name": "stderr",
     "output_type": "stream",
     "text": [
      "\n"
     ]
    },
    {
     "name": "stdout",
     "output_type": "stream",
     "text": [
      "Validation loss: 2.4574\n",
      "Individual losses: type=0.0026, beat: 0.0613, position: 0.0192, pitch: 0.3199, duration: 0.1729, instrument: 0.0383\n",
      "Saved the model to: experiment/checkpoints/model_3600.pt\n",
      "Training...\n"
     ]
    },
    {
     "name": "stderr",
     "output_type": "stream",
     "text": [
      "100%|████████████████████████████| 100/100 [00:03<00:00, 31.62it/s, loss=2.6650]"
     ]
    },
    {
     "name": "stdout",
     "output_type": "stream",
     "text": [
      "Validating...\n"
     ]
    },
    {
     "name": "stderr",
     "output_type": "stream",
     "text": [
      "\n"
     ]
    },
    {
     "name": "stdout",
     "output_type": "stream",
     "text": [
      "Validation loss: 2.4296\n",
      "Individual losses: type=0.0026, beat: 0.0583, position: 0.0190, pitch: 0.3181, duration: 0.1720, instrument: 0.0375\n",
      "Saved the model to: experiment/checkpoints/model_3700.pt\n",
      "Training...\n"
     ]
    },
    {
     "name": "stderr",
     "output_type": "stream",
     "text": [
      "100%|████████████████████████████| 100/100 [00:03<00:00, 31.12it/s, loss=2.6685]"
     ]
    },
    {
     "name": "stdout",
     "output_type": "stream",
     "text": [
      "Validating...\n"
     ]
    },
    {
     "name": "stderr",
     "output_type": "stream",
     "text": [
      "\n"
     ]
    },
    {
     "name": "stdout",
     "output_type": "stream",
     "text": [
      "Validation loss: 2.4022\n",
      "Individual losses: type=0.0025, beat: 0.0553, position: 0.0188, pitch: 0.3164, duration: 0.1712, instrument: 0.0362\n",
      "Saved the model to: experiment/checkpoints/model_3800.pt\n",
      "Training...\n"
     ]
    },
    {
     "name": "stderr",
     "output_type": "stream",
     "text": [
      "100%|████████████████████████████| 100/100 [00:03<00:00, 28.39it/s, loss=2.7778]"
     ]
    },
    {
     "name": "stdout",
     "output_type": "stream",
     "text": [
      "Validating...\n"
     ]
    },
    {
     "name": "stderr",
     "output_type": "stream",
     "text": [
      "\n"
     ]
    },
    {
     "name": "stdout",
     "output_type": "stream",
     "text": [
      "Validation loss: 2.3734\n",
      "Individual losses: type=0.0025, beat: 0.0528, position: 0.0186, pitch: 0.3147, duration: 0.1705, instrument: 0.0343\n",
      "Saved the model to: experiment/checkpoints/model_3900.pt\n",
      "Training...\n"
     ]
    },
    {
     "name": "stderr",
     "output_type": "stream",
     "text": [
      "100%|████████████████████████████| 100/100 [00:03<00:00, 30.94it/s, loss=2.9521]"
     ]
    },
    {
     "name": "stdout",
     "output_type": "stream",
     "text": [
      "Validating...\n"
     ]
    },
    {
     "name": "stderr",
     "output_type": "stream",
     "text": [
      "\n"
     ]
    },
    {
     "name": "stdout",
     "output_type": "stream",
     "text": [
      "Validation loss: 2.3548\n",
      "Individual losses: type=0.0024, beat: 0.0506, position: 0.0184, pitch: 0.3135, duration: 0.1699, instrument: 0.0340\n",
      "Saved the model to: experiment/checkpoints/model_4000.pt\n",
      "Training...\n"
     ]
    },
    {
     "name": "stderr",
     "output_type": "stream",
     "text": [
      "100%|████████████████████████████| 100/100 [00:03<00:00, 29.65it/s, loss=3.0527]"
     ]
    },
    {
     "name": "stdout",
     "output_type": "stream",
     "text": [
      "Validating...\n"
     ]
    },
    {
     "name": "stderr",
     "output_type": "stream",
     "text": [
      "\n"
     ]
    },
    {
     "name": "stdout",
     "output_type": "stream",
     "text": [
      "Validation loss: 2.3309\n",
      "Individual losses: type=0.0024, beat: 0.0483, position: 0.0183, pitch: 0.3120, duration: 0.1693, instrument: 0.0324\n",
      "Saved the model to: experiment/checkpoints/model_4100.pt\n",
      "Training...\n"
     ]
    },
    {
     "name": "stderr",
     "output_type": "stream",
     "text": [
      "100%|████████████████████████████| 100/100 [00:03<00:00, 30.07it/s, loss=2.7880]"
     ]
    },
    {
     "name": "stdout",
     "output_type": "stream",
     "text": [
      "Validating...\n"
     ]
    },
    {
     "name": "stderr",
     "output_type": "stream",
     "text": [
      "\n"
     ]
    },
    {
     "name": "stdout",
     "output_type": "stream",
     "text": [
      "Validation loss: 2.3104\n",
      "Individual losses: type=0.0023, beat: 0.0462, position: 0.0181, pitch: 0.3108, duration: 0.1686, instrument: 0.0315\n",
      "Saved the model to: experiment/checkpoints/model_4200.pt\n",
      "Training...\n"
     ]
    },
    {
     "name": "stderr",
     "output_type": "stream",
     "text": [
      "100%|████████████████████████████| 100/100 [00:03<00:00, 30.60it/s, loss=2.5311]"
     ]
    },
    {
     "name": "stdout",
     "output_type": "stream",
     "text": [
      "Validating...\n"
     ]
    },
    {
     "name": "stderr",
     "output_type": "stream",
     "text": [
      "\n"
     ]
    },
    {
     "name": "stdout",
     "output_type": "stream",
     "text": [
      "Validation loss: 2.2920\n",
      "Individual losses: type=0.0023, beat: 0.0444, position: 0.0180, pitch: 0.3095, duration: 0.1678, instrument: 0.0311\n",
      "Saved the model to: experiment/checkpoints/model_4300.pt\n",
      "Training...\n"
     ]
    },
    {
     "name": "stderr",
     "output_type": "stream",
     "text": [
      "100%|████████████████████████████| 100/100 [00:03<00:00, 31.21it/s, loss=2.9102]"
     ]
    },
    {
     "name": "stdout",
     "output_type": "stream",
     "text": [
      "Validating...\n"
     ]
    },
    {
     "name": "stderr",
     "output_type": "stream",
     "text": [
      "\n"
     ]
    },
    {
     "name": "stdout",
     "output_type": "stream",
     "text": [
      "Validation loss: 2.2768\n",
      "Individual losses: type=0.0023, beat: 0.0426, position: 0.0179, pitch: 0.3084, duration: 0.1673, instrument: 0.0308\n",
      "Saved the model to: experiment/checkpoints/model_4400.pt\n",
      "Training...\n"
     ]
    },
    {
     "name": "stderr",
     "output_type": "stream",
     "text": [
      "100%|████████████████████████████| 100/100 [00:03<00:00, 31.47it/s, loss=2.5979]"
     ]
    },
    {
     "name": "stdout",
     "output_type": "stream",
     "text": [
      "Validating...\n"
     ]
    },
    {
     "name": "stderr",
     "output_type": "stream",
     "text": [
      "\n"
     ]
    },
    {
     "name": "stdout",
     "output_type": "stream",
     "text": [
      "Validation loss: 2.2622\n",
      "Individual losses: type=0.0022, beat: 0.0411, position: 0.0178, pitch: 0.3075, duration: 0.1668, instrument: 0.0302\n",
      "Saved the model to: experiment/checkpoints/model_4500.pt\n",
      "Training...\n"
     ]
    },
    {
     "name": "stderr",
     "output_type": "stream",
     "text": [
      "100%|████████████████████████████| 100/100 [00:03<00:00, 28.44it/s, loss=2.3968]"
     ]
    },
    {
     "name": "stdout",
     "output_type": "stream",
     "text": [
      "Validating...\n"
     ]
    },
    {
     "name": "stderr",
     "output_type": "stream",
     "text": [
      "\n"
     ]
    },
    {
     "name": "stdout",
     "output_type": "stream",
     "text": [
      "Validation loss: 2.2458\n",
      "Individual losses: type=0.0022, beat: 0.0393, position: 0.0176, pitch: 0.3063, duration: 0.1662, instrument: 0.0298\n",
      "Saved the model to: experiment/checkpoints/model_4600.pt\n",
      "Training...\n"
     ]
    },
    {
     "name": "stderr",
     "output_type": "stream",
     "text": [
      "100%|████████████████████████████| 100/100 [00:03<00:00, 30.78it/s, loss=2.3849]"
     ]
    },
    {
     "name": "stdout",
     "output_type": "stream",
     "text": [
      "Validating...\n"
     ]
    },
    {
     "name": "stderr",
     "output_type": "stream",
     "text": [
      "\n"
     ]
    },
    {
     "name": "stdout",
     "output_type": "stream",
     "text": [
      "Validation loss: 2.2327\n",
      "Individual losses: type=0.0022, beat: 0.0379, position: 0.0176, pitch: 0.3055, duration: 0.1658, instrument: 0.0292\n",
      "Saved the model to: experiment/checkpoints/model_4700.pt\n",
      "Training...\n"
     ]
    },
    {
     "name": "stderr",
     "output_type": "stream",
     "text": [
      "100%|████████████████████████████| 100/100 [00:03<00:00, 31.39it/s, loss=2.4647]"
     ]
    },
    {
     "name": "stdout",
     "output_type": "stream",
     "text": [
      "Validating...\n"
     ]
    },
    {
     "name": "stderr",
     "output_type": "stream",
     "text": [
      "\n"
     ]
    },
    {
     "name": "stdout",
     "output_type": "stream",
     "text": [
      "Validation loss: 2.2184\n",
      "Individual losses: type=0.0022, beat: 0.0367, position: 0.0175, pitch: 0.3045, duration: 0.1653, instrument: 0.0285\n",
      "Saved the model to: experiment/checkpoints/model_4800.pt\n",
      "Training...\n"
     ]
    },
    {
     "name": "stderr",
     "output_type": "stream",
     "text": [
      "100%|████████████████████████████| 100/100 [00:03<00:00, 30.63it/s, loss=3.0025]"
     ]
    },
    {
     "name": "stdout",
     "output_type": "stream",
     "text": [
      "Validating...\n"
     ]
    },
    {
     "name": "stderr",
     "output_type": "stream",
     "text": [
      "\n"
     ]
    },
    {
     "name": "stdout",
     "output_type": "stream",
     "text": [
      "Validation loss: 2.2071\n",
      "Individual losses: type=0.0022, beat: 0.0355, position: 0.0174, pitch: 0.3036, duration: 0.1648, instrument: 0.0283\n",
      "Saved the model to: experiment/checkpoints/model_4900.pt\n",
      "Training...\n"
     ]
    },
    {
     "name": "stderr",
     "output_type": "stream",
     "text": [
      "100%|████████████████████████████| 100/100 [00:03<00:00, 30.49it/s, loss=2.6560]"
     ]
    },
    {
     "name": "stdout",
     "output_type": "stream",
     "text": [
      "Validating...\n"
     ]
    },
    {
     "name": "stderr",
     "output_type": "stream",
     "text": [
      "\n"
     ]
    },
    {
     "name": "stdout",
     "output_type": "stream",
     "text": [
      "Validation loss: 2.1948\n",
      "Individual losses: type=0.0021, beat: 0.0344, position: 0.0173, pitch: 0.3027, duration: 0.1644, instrument: 0.0277\n",
      "Saved the model to: experiment/checkpoints/model_5000.pt\n",
      "Training...\n"
     ]
    },
    {
     "name": "stderr",
     "output_type": "stream",
     "text": [
      "100%|████████████████████████████| 100/100 [00:03<00:00, 30.67it/s, loss=2.7832]"
     ]
    },
    {
     "name": "stdout",
     "output_type": "stream",
     "text": [
      "Validating...\n"
     ]
    },
    {
     "name": "stderr",
     "output_type": "stream",
     "text": [
      "\n"
     ]
    },
    {
     "name": "stdout",
     "output_type": "stream",
     "text": [
      "Validation loss: 2.1840\n",
      "Individual losses: type=0.0021, beat: 0.0334, position: 0.0172, pitch: 0.3020, duration: 0.1639, instrument: 0.0273\n",
      "Saved the model to: experiment/checkpoints/model_5100.pt\n",
      "Training...\n"
     ]
    },
    {
     "name": "stderr",
     "output_type": "stream",
     "text": [
      "100%|████████████████████████████| 100/100 [00:03<00:00, 30.57it/s, loss=2.3550]"
     ]
    },
    {
     "name": "stdout",
     "output_type": "stream",
     "text": [
      "Validating...\n"
     ]
    },
    {
     "name": "stderr",
     "output_type": "stream",
     "text": [
      "\n"
     ]
    },
    {
     "name": "stdout",
     "output_type": "stream",
     "text": [
      "Validation loss: 2.1727\n",
      "Individual losses: type=0.0021, beat: 0.0322, position: 0.0172, pitch: 0.3014, duration: 0.1635, instrument: 0.0268\n",
      "Saved the model to: experiment/checkpoints/model_5200.pt\n",
      "Training...\n"
     ]
    },
    {
     "name": "stderr",
     "output_type": "stream",
     "text": [
      "100%|████████████████████████████| 100/100 [00:03<00:00, 29.43it/s, loss=2.2202]"
     ]
    },
    {
     "name": "stdout",
     "output_type": "stream",
     "text": [
      "Validating...\n"
     ]
    },
    {
     "name": "stderr",
     "output_type": "stream",
     "text": [
      "\n"
     ]
    },
    {
     "name": "stdout",
     "output_type": "stream",
     "text": [
      "Validation loss: 2.1622\n",
      "Individual losses: type=0.0021, beat: 0.0313, position: 0.0171, pitch: 0.3006, duration: 0.1631, instrument: 0.0264\n",
      "Saved the model to: experiment/checkpoints/model_5300.pt\n",
      "Training...\n"
     ]
    },
    {
     "name": "stderr",
     "output_type": "stream",
     "text": [
      "100%|████████████████████████████| 100/100 [00:03<00:00, 31.83it/s, loss=2.3716]"
     ]
    },
    {
     "name": "stdout",
     "output_type": "stream",
     "text": [
      "Validating...\n"
     ]
    },
    {
     "name": "stderr",
     "output_type": "stream",
     "text": [
      "\n"
     ]
    },
    {
     "name": "stdout",
     "output_type": "stream",
     "text": [
      "Validation loss: 2.1529\n",
      "Individual losses: type=0.0020, beat: 0.0304, position: 0.0171, pitch: 0.3000, duration: 0.1627, instrument: 0.0260\n",
      "Saved the model to: experiment/checkpoints/model_5400.pt\n",
      "Training...\n"
     ]
    },
    {
     "name": "stderr",
     "output_type": "stream",
     "text": [
      "100%|████████████████████████████| 100/100 [00:03<00:00, 30.55it/s, loss=2.1542]"
     ]
    },
    {
     "name": "stdout",
     "output_type": "stream",
     "text": [
      "Validating...\n"
     ]
    },
    {
     "name": "stderr",
     "output_type": "stream",
     "text": [
      "\n"
     ]
    },
    {
     "name": "stdout",
     "output_type": "stream",
     "text": [
      "Validation loss: 2.1449\n",
      "Individual losses: type=0.0020, beat: 0.0294, position: 0.0170, pitch: 0.2996, duration: 0.1624, instrument: 0.0258\n",
      "Saved the model to: experiment/checkpoints/model_5500.pt\n",
      "Training...\n"
     ]
    },
    {
     "name": "stderr",
     "output_type": "stream",
     "text": [
      "100%|████████████████████████████| 100/100 [00:03<00:00, 30.38it/s, loss=2.3980]"
     ]
    },
    {
     "name": "stdout",
     "output_type": "stream",
     "text": [
      "Validating...\n"
     ]
    },
    {
     "name": "stderr",
     "output_type": "stream",
     "text": [
      "\n"
     ]
    },
    {
     "name": "stdout",
     "output_type": "stream",
     "text": [
      "Validation loss: 2.1371\n",
      "Individual losses: type=0.0020, beat: 0.0287, position: 0.0169, pitch: 0.2988, duration: 0.1623, instrument: 0.0256\n",
      "Saved the model to: experiment/checkpoints/model_5600.pt\n",
      "Training...\n"
     ]
    },
    {
     "name": "stderr",
     "output_type": "stream",
     "text": [
      "100%|████████████████████████████| 100/100 [00:03<00:00, 28.89it/s, loss=1.6750]"
     ]
    },
    {
     "name": "stdout",
     "output_type": "stream",
     "text": [
      "Validating...\n"
     ]
    },
    {
     "name": "stderr",
     "output_type": "stream",
     "text": [
      "\n"
     ]
    },
    {
     "name": "stdout",
     "output_type": "stream",
     "text": [
      "Validation loss: 2.1295\n",
      "Individual losses: type=0.0020, beat: 0.0279, position: 0.0169, pitch: 0.2983, duration: 0.1619, instrument: 0.0254\n",
      "Saved the model to: experiment/checkpoints/model_5700.pt\n",
      "Training...\n"
     ]
    },
    {
     "name": "stderr",
     "output_type": "stream",
     "text": [
      "100%|████████████████████████████| 100/100 [00:03<00:00, 30.89it/s, loss=2.5639]"
     ]
    },
    {
     "name": "stdout",
     "output_type": "stream",
     "text": [
      "Validating...\n"
     ]
    },
    {
     "name": "stderr",
     "output_type": "stream",
     "text": [
      "\n"
     ]
    },
    {
     "name": "stdout",
     "output_type": "stream",
     "text": [
      "Validation loss: 2.1228\n",
      "Individual losses: type=0.0020, beat: 0.0273, position: 0.0169, pitch: 0.2978, duration: 0.1617, instrument: 0.0251\n",
      "Saved the model to: experiment/checkpoints/model_5800.pt\n",
      "Training...\n"
     ]
    },
    {
     "name": "stderr",
     "output_type": "stream",
     "text": [
      "100%|████████████████████████████| 100/100 [00:03<00:00, 31.81it/s, loss=2.5009]"
     ]
    },
    {
     "name": "stdout",
     "output_type": "stream",
     "text": [
      "Validating...\n"
     ]
    },
    {
     "name": "stderr",
     "output_type": "stream",
     "text": [
      "\n"
     ]
    },
    {
     "name": "stdout",
     "output_type": "stream",
     "text": [
      "Validation loss: 2.1147\n",
      "Individual losses: type=0.0020, beat: 0.0266, position: 0.0168, pitch: 0.2972, duration: 0.1613, instrument: 0.0248\n",
      "Saved the model to: experiment/checkpoints/model_5900.pt\n",
      "Training...\n"
     ]
    },
    {
     "name": "stderr",
     "output_type": "stream",
     "text": [
      "100%|████████████████████████████| 100/100 [00:03<00:00, 31.10it/s, loss=2.5486]"
     ]
    },
    {
     "name": "stdout",
     "output_type": "stream",
     "text": [
      "Validating...\n"
     ]
    },
    {
     "name": "stderr",
     "output_type": "stream",
     "text": [
      "\n"
     ]
    },
    {
     "name": "stdout",
     "output_type": "stream",
     "text": [
      "Validation loss: 2.1078\n",
      "Individual losses: type=0.0020, beat: 0.0259, position: 0.0168, pitch: 0.2967, duration: 0.1610, instrument: 0.0246\n",
      "Saved the model to: experiment/checkpoints/model_6000.pt\n",
      "Minimum validation loss achieved: 2.107817289233208\n",
      "Saved the optimizer state to: experiment/checkpoints/optimizer_6000.pt\n",
      "Saved the scheduler state to: experiment/checkpoints/scheduler_6000.pt\n"
     ]
    }
   ],
   "source": [
    "train(\"experiment\",model)"
   ]
  },
  {
   "cell_type": "code",
   "execution_count": 22,
   "metadata": {},
   "outputs": [
    {
     "data": {
      "text/plain": [
       "['BachJS-BWV1080-C07',\n",
       " 'LullyJB-LWV60-A1S04D',\n",
       " 'BachJS-BWV787',\n",
       " 'BuxtehudeD-BuxWV259-5',\n",
       " 'LullyJB-LWV60-A3S02A',\n",
       " 'BeckerD-SS-6',\n",
       " 'BachJS-BWV872-1',\n",
       " 'LullyJB-LWV60-A2S10-02',\n",
       " 'AlbioiT-O6N05-2',\n",
       " 'BeckerD-SS-41',\n",
       " 'BachJS-BWV875-1',\n",
       " 'BachJS-BWV858-2',\n",
       " 'AlbioiT-O6N11-3',\n",
       " 'BachJS-BWV851-1',\n",
       " 'BuxtehudeD-BuxWV263-1',\n",
       " 'LullyJB-LWV60-A2S04A',\n",
       " 'LullyJB-LWV60-A2S09-01',\n",
       " 'BuxtehudeD-BuxWV262-2',\n",
       " 'BachJS-BWV852-2',\n",
       " 'BachJS-BWV849-1',\n",
       " 'BeckerD-SS-43',\n",
       " 'BuxtehudeD-BuxWV259-1',\n",
       " 'AlbioiT-O6N08-1',\n",
       " 'BachJS-BWV848-2',\n",
       " 'BachJS-BWV988-V15',\n",
       " 'BachJS-BWV861-1',\n",
       " 'AlbioiT-O4N4-1',\n",
       " 'AlbioiT-O6N02-3',\n",
       " 'AlbioiT-O4N4-3',\n",
       " 'BeckerD-SS-32',\n",
       " 'BuxtehudeD-BuxWV264-1',\n",
       " 'AlbioiT-O4N6-3',\n",
       " 'BeckerD-SS-21',\n",
       " 'BachJS-BWV885-2',\n",
       " 'BachJS-BWV870-2',\n",
       " 'AlbioiT-O6N09-4',\n",
       " 'LullyJB-LWV60-A0-09',\n",
       " 'BuxtehudeD-BuxWV265-1',\n",
       " 'BachJS-BWV988-V11',\n",
       " 'BuxtehudeD-BuxWV262-4']"
      ]
     },
     "execution_count": 22,
     "metadata": {},
     "output_type": "execute_result"
    }
   ],
   "source": [
    "import re\n",
    "re.sub(r\"[\\[\\]\\\\n']\", \"\", pathlib.Path(\"./val_set.txt\").read_text()).split(\",\\n \")"
   ]
  },
  {
   "cell_type": "code",
   "execution_count": 25,
   "metadata": {},
   "outputs": [
    {
     "name": "stdout",
     "output_type": "stream",
     "text": [
      "40\n"
     ]
    }
   ],
   "source": [
    "print(len(val_set))"
   ]
  },
  {
   "cell_type": "code",
   "execution_count": 27,
   "metadata": {},
   "outputs": [
    {
     "data": {
      "text/plain": [
       "{'AlbinoniT-O4N4-1',\n",
       " 'AlbinoniT-O4N4-3',\n",
       " 'AlbinoniT-O4N6-3',\n",
       " 'AlbinoniT-O6N02-3',\n",
       " 'AlbinoniT-O6N05-2',\n",
       " 'AlbinoniT-O6N08-1',\n",
       " 'AlbinoniT-O6N09-4',\n",
       " 'AlbinoniT-O6N11-3',\n",
       " 'BachJS-BWV1080-C07',\n",
       " 'BachJS-BWV787',\n",
       " 'BachJS-BWV848-2',\n",
       " 'BachJS-BWV849-1',\n",
       " 'BachJS-BWV851-1',\n",
       " 'BachJS-BWV852-2',\n",
       " 'BachJS-BWV858-2',\n",
       " 'BachJS-BWV861-1',\n",
       " 'BachJS-BWV870-2',\n",
       " 'BachJS-BWV872-1',\n",
       " 'BachJS-BWV875-1',\n",
       " 'BachJS-BWV885-2',\n",
       " 'BachJS-BWV988-V11',\n",
       " 'BachJS-BWV988-V15',\n",
       " 'BeckerD-SS-21',\n",
       " 'BeckerD-SS-32',\n",
       " 'BeckerD-SS-41',\n",
       " 'BeckerD-SS-43',\n",
       " 'BeckerD-SS-6',\n",
       " 'BuxtehudeD-BuxWV259-1',\n",
       " 'BuxtehudeD-BuxWV259-5',\n",
       " 'BuxtehudeD-BuxWV262-2',\n",
       " 'BuxtehudeD-BuxWV262-4',\n",
       " 'BuxtehudeD-BuxWV263-1',\n",
       " 'BuxtehudeD-BuxWV264-1',\n",
       " 'BuxtehudeD-BuxWV265-1',\n",
       " 'LullyJB-LWV60-A0-09',\n",
       " 'LullyJB-LWV60-A1S04D',\n",
       " 'LullyJB-LWV60-A2S04A',\n",
       " 'LullyJB-LWV60-A2S09-01',\n",
       " 'LullyJB-LWV60-A2S10-02',\n",
       " 'LullyJB-LWV60-A3S02A'}"
      ]
     },
     "execution_count": 27,
     "metadata": {},
     "output_type": "execute_result"
    }
   ],
   "source": [
    "set([v['name'] for v in val_set])"
   ]
  },
  {
   "cell_type": "code",
   "execution_count": 16,
   "metadata": {},
   "outputs": [
    {
     "name": "stderr",
     "output_type": "stream",
     "text": [
      "  0%|                                                     | 0/2 [00:00<?, ?it/s]"
     ]
    },
    {
     "name": "stdout",
     "output_type": "stream",
     "text": [
      "Generating based on ['BuxtehudeD-BuxWV256-6']\n"
     ]
    },
    {
     "name": "stderr",
     "output_type": "stream",
     "text": [
      " 50%|██████████████████████▌                      | 1/2 [00:02<00:02,  2.40s/it]"
     ]
    },
    {
     "name": "stdout",
     "output_type": "stream",
     "text": [
      "Generating based on ['BachJS-BWV776']\n"
     ]
    },
    {
     "name": "stderr",
     "output_type": "stream",
     "text": [
      "100%|█████████████████████████████████████████████| 2/2 [00:04<00:00,  2.25s/it]\n"
     ]
    }
   ],
   "source": [
    "\n",
    "generate(2,\"./samples2\",seq_len=50,model=model,modes=[\"unconditioned\",\"instrument_informed\",\"4_beat\",\"16_beat\"])\n",
    "# origModel"
   ]
  },
  {
   "cell_type": "code",
   "execution_count": 17,
   "metadata": {},
   "outputs": [
    {
     "ename": "NameError",
     "evalue": "name 'seq' is not defined",
     "output_type": "error",
     "traceback": [
      "\u001b[0;31m---------------------------------------------------------------------------\u001b[0m",
      "\u001b[0;31mNameError\u001b[0m                                 Traceback (most recent call last)",
      "Cell \u001b[0;32mIn[17], line 1\u001b[0m\n\u001b[0;32m----> 1\u001b[0m xi \u001b[38;5;241m=\u001b[39m \u001b[43mseq\u001b[49m[:, :\u001b[38;5;241m-\u001b[39m\u001b[38;5;241m1\u001b[39m]\n\u001b[1;32m      2\u001b[0m xo \u001b[38;5;241m=\u001b[39m seq[:, \u001b[38;5;241m1\u001b[39m:]\n\u001b[1;32m      3\u001b[0m xi, xo\n",
      "\u001b[0;31mNameError\u001b[0m: name 'seq' is not defined"
     ]
    }
   ],
   "source": [
    "xi = seq[:, :-1]\n",
    "xo = seq[:, 1:]\n",
    "xi, xo"
   ]
  },
  {
   "cell_type": "code",
   "execution_count": null,
   "metadata": {},
   "outputs": [
    {
     "ename": "KeyboardInterrupt",
     "evalue": "",
     "output_type": "error",
     "traceback": [
      "\u001b[0;31m---------------------------------------------------------------------------\u001b[0m",
      "\u001b[0;31mKeyboardInterrupt\u001b[0m                         Traceback (most recent call last)",
      "Cell \u001b[0;32mIn[42], line 2\u001b[0m\n\u001b[1;32m      1\u001b[0m \u001b[38;5;66;03m# model()\u001b[39;00m\n\u001b[0;32m----> 2\u001b[0m batch \u001b[38;5;241m=\u001b[39m \u001b[38;5;28;43mnext\u001b[39;49m\u001b[43m(\u001b[49m\u001b[38;5;28;43miter\u001b[39;49m\u001b[43m(\u001b[49m\u001b[43mtrain_loader\u001b[49m\u001b[43m)\u001b[49m\u001b[43m)\u001b[49m\n\u001b[1;32m      3\u001b[0m seq \u001b[38;5;241m=\u001b[39m batch[\u001b[38;5;124m\"\u001b[39m\u001b[38;5;124mseq\u001b[39m\u001b[38;5;124m\"\u001b[39m]\u001b[38;5;241m.\u001b[39mto(device)\n\u001b[1;32m      4\u001b[0m mask \u001b[38;5;241m=\u001b[39m batch[\u001b[38;5;124m\"\u001b[39m\u001b[38;5;124mmask\u001b[39m\u001b[38;5;124m\"\u001b[39m]\u001b[38;5;241m.\u001b[39mto(device)\n",
      "File \u001b[0;32m~/miniconda3/envs/mtmt/lib/python3.9/site-packages/torch/utils/data/dataloader.py:530\u001b[0m, in \u001b[0;36m_BaseDataLoaderIter.__next__\u001b[0;34m(self)\u001b[0m\n\u001b[1;32m    528\u001b[0m \u001b[38;5;28;01mif\u001b[39;00m \u001b[38;5;28mself\u001b[39m\u001b[38;5;241m.\u001b[39m_sampler_iter \u001b[38;5;129;01mis\u001b[39;00m \u001b[38;5;28;01mNone\u001b[39;00m:\n\u001b[1;32m    529\u001b[0m     \u001b[38;5;28mself\u001b[39m\u001b[38;5;241m.\u001b[39m_reset()\n\u001b[0;32m--> 530\u001b[0m data \u001b[38;5;241m=\u001b[39m \u001b[38;5;28;43mself\u001b[39;49m\u001b[38;5;241;43m.\u001b[39;49m\u001b[43m_next_data\u001b[49m\u001b[43m(\u001b[49m\u001b[43m)\u001b[49m\n\u001b[1;32m    531\u001b[0m \u001b[38;5;28mself\u001b[39m\u001b[38;5;241m.\u001b[39m_num_yielded \u001b[38;5;241m+\u001b[39m\u001b[38;5;241m=\u001b[39m \u001b[38;5;241m1\u001b[39m\n\u001b[1;32m    532\u001b[0m \u001b[38;5;28;01mif\u001b[39;00m \u001b[38;5;28mself\u001b[39m\u001b[38;5;241m.\u001b[39m_dataset_kind \u001b[38;5;241m==\u001b[39m _DatasetKind\u001b[38;5;241m.\u001b[39mIterable \u001b[38;5;129;01mand\u001b[39;00m \\\n\u001b[1;32m    533\u001b[0m         \u001b[38;5;28mself\u001b[39m\u001b[38;5;241m.\u001b[39m_IterableDataset_len_called \u001b[38;5;129;01mis\u001b[39;00m \u001b[38;5;129;01mnot\u001b[39;00m \u001b[38;5;28;01mNone\u001b[39;00m \u001b[38;5;129;01mand\u001b[39;00m \\\n\u001b[1;32m    534\u001b[0m         \u001b[38;5;28mself\u001b[39m\u001b[38;5;241m.\u001b[39m_num_yielded \u001b[38;5;241m>\u001b[39m \u001b[38;5;28mself\u001b[39m\u001b[38;5;241m.\u001b[39m_IterableDataset_len_called:\n",
      "File \u001b[0;32m~/miniconda3/envs/mtmt/lib/python3.9/site-packages/torch/utils/data/dataloader.py:1207\u001b[0m, in \u001b[0;36m_MultiProcessingDataLoaderIter._next_data\u001b[0;34m(self)\u001b[0m\n\u001b[1;32m   1204\u001b[0m     \u001b[38;5;28;01mreturn\u001b[39;00m \u001b[38;5;28mself\u001b[39m\u001b[38;5;241m.\u001b[39m_process_data(data)\n\u001b[1;32m   1206\u001b[0m \u001b[38;5;28;01massert\u001b[39;00m \u001b[38;5;129;01mnot\u001b[39;00m \u001b[38;5;28mself\u001b[39m\u001b[38;5;241m.\u001b[39m_shutdown \u001b[38;5;129;01mand\u001b[39;00m \u001b[38;5;28mself\u001b[39m\u001b[38;5;241m.\u001b[39m_tasks_outstanding \u001b[38;5;241m>\u001b[39m \u001b[38;5;241m0\u001b[39m\n\u001b[0;32m-> 1207\u001b[0m idx, data \u001b[38;5;241m=\u001b[39m \u001b[38;5;28;43mself\u001b[39;49m\u001b[38;5;241;43m.\u001b[39;49m\u001b[43m_get_data\u001b[49m\u001b[43m(\u001b[49m\u001b[43m)\u001b[49m\n\u001b[1;32m   1208\u001b[0m \u001b[38;5;28mself\u001b[39m\u001b[38;5;241m.\u001b[39m_tasks_outstanding \u001b[38;5;241m-\u001b[39m\u001b[38;5;241m=\u001b[39m \u001b[38;5;241m1\u001b[39m\n\u001b[1;32m   1209\u001b[0m \u001b[38;5;28;01mif\u001b[39;00m \u001b[38;5;28mself\u001b[39m\u001b[38;5;241m.\u001b[39m_dataset_kind \u001b[38;5;241m==\u001b[39m _DatasetKind\u001b[38;5;241m.\u001b[39mIterable:\n\u001b[1;32m   1210\u001b[0m     \u001b[38;5;66;03m# Check for _IterableDatasetStopIteration\u001b[39;00m\n",
      "File \u001b[0;32m~/miniconda3/envs/mtmt/lib/python3.9/site-packages/torch/utils/data/dataloader.py:1173\u001b[0m, in \u001b[0;36m_MultiProcessingDataLoaderIter._get_data\u001b[0;34m(self)\u001b[0m\n\u001b[1;32m   1169\u001b[0m     \u001b[38;5;66;03m# In this case, `self._data_queue` is a `queue.Queue`,. But we don't\u001b[39;00m\n\u001b[1;32m   1170\u001b[0m     \u001b[38;5;66;03m# need to call `.task_done()` because we don't use `.join()`.\u001b[39;00m\n\u001b[1;32m   1171\u001b[0m \u001b[38;5;28;01melse\u001b[39;00m:\n\u001b[1;32m   1172\u001b[0m     \u001b[38;5;28;01mwhile\u001b[39;00m \u001b[38;5;28;01mTrue\u001b[39;00m:\n\u001b[0;32m-> 1173\u001b[0m         success, data \u001b[38;5;241m=\u001b[39m \u001b[38;5;28;43mself\u001b[39;49m\u001b[38;5;241;43m.\u001b[39;49m\u001b[43m_try_get_data\u001b[49m\u001b[43m(\u001b[49m\u001b[43m)\u001b[49m\n\u001b[1;32m   1174\u001b[0m         \u001b[38;5;28;01mif\u001b[39;00m success:\n\u001b[1;32m   1175\u001b[0m             \u001b[38;5;28;01mreturn\u001b[39;00m data\n",
      "File \u001b[0;32m~/miniconda3/envs/mtmt/lib/python3.9/site-packages/torch/utils/data/dataloader.py:1011\u001b[0m, in \u001b[0;36m_MultiProcessingDataLoaderIter._try_get_data\u001b[0;34m(self, timeout)\u001b[0m\n\u001b[1;32m    998\u001b[0m \u001b[38;5;28;01mdef\u001b[39;00m \u001b[38;5;21m_try_get_data\u001b[39m(\u001b[38;5;28mself\u001b[39m, timeout\u001b[38;5;241m=\u001b[39m_utils\u001b[38;5;241m.\u001b[39mMP_STATUS_CHECK_INTERVAL):\n\u001b[1;32m    999\u001b[0m     \u001b[38;5;66;03m# Tries to fetch data from `self._data_queue` once for a given timeout.\u001b[39;00m\n\u001b[1;32m   1000\u001b[0m     \u001b[38;5;66;03m# This can also be used as inner loop of fetching without timeout, with\u001b[39;00m\n\u001b[0;32m   (...)\u001b[0m\n\u001b[1;32m   1008\u001b[0m     \u001b[38;5;66;03m# Returns a 2-tuple:\u001b[39;00m\n\u001b[1;32m   1009\u001b[0m     \u001b[38;5;66;03m#   (bool: whether successfully get data, any: data if successful else None)\u001b[39;00m\n\u001b[1;32m   1010\u001b[0m     \u001b[38;5;28;01mtry\u001b[39;00m:\n\u001b[0;32m-> 1011\u001b[0m         data \u001b[38;5;241m=\u001b[39m \u001b[38;5;28;43mself\u001b[39;49m\u001b[38;5;241;43m.\u001b[39;49m\u001b[43m_data_queue\u001b[49m\u001b[38;5;241;43m.\u001b[39;49m\u001b[43mget\u001b[49m\u001b[43m(\u001b[49m\u001b[43mtimeout\u001b[49m\u001b[38;5;241;43m=\u001b[39;49m\u001b[43mtimeout\u001b[49m\u001b[43m)\u001b[49m\n\u001b[1;32m   1012\u001b[0m         \u001b[38;5;28;01mreturn\u001b[39;00m (\u001b[38;5;28;01mTrue\u001b[39;00m, data)\n\u001b[1;32m   1013\u001b[0m     \u001b[38;5;28;01mexcept\u001b[39;00m \u001b[38;5;167;01mException\u001b[39;00m \u001b[38;5;28;01mas\u001b[39;00m e:\n\u001b[1;32m   1014\u001b[0m         \u001b[38;5;66;03m# At timeout and error, we manually check whether any worker has\u001b[39;00m\n\u001b[1;32m   1015\u001b[0m         \u001b[38;5;66;03m# failed. Note that this is the only mechanism for Windows to detect\u001b[39;00m\n\u001b[1;32m   1016\u001b[0m         \u001b[38;5;66;03m# worker failures.\u001b[39;00m\n",
      "File \u001b[0;32m~/miniconda3/envs/mtmt/lib/python3.9/multiprocessing/queues.py:113\u001b[0m, in \u001b[0;36mQueue.get\u001b[0;34m(self, block, timeout)\u001b[0m\n\u001b[1;32m    111\u001b[0m \u001b[38;5;28;01mif\u001b[39;00m block:\n\u001b[1;32m    112\u001b[0m     timeout \u001b[38;5;241m=\u001b[39m deadline \u001b[38;5;241m-\u001b[39m time\u001b[38;5;241m.\u001b[39mmonotonic()\n\u001b[0;32m--> 113\u001b[0m     \u001b[38;5;28;01mif\u001b[39;00m \u001b[38;5;129;01mnot\u001b[39;00m \u001b[38;5;28;43mself\u001b[39;49m\u001b[38;5;241;43m.\u001b[39;49m\u001b[43m_poll\u001b[49m\u001b[43m(\u001b[49m\u001b[43mtimeout\u001b[49m\u001b[43m)\u001b[49m:\n\u001b[1;32m    114\u001b[0m         \u001b[38;5;28;01mraise\u001b[39;00m Empty\n\u001b[1;32m    115\u001b[0m \u001b[38;5;28;01melif\u001b[39;00m \u001b[38;5;129;01mnot\u001b[39;00m \u001b[38;5;28mself\u001b[39m\u001b[38;5;241m.\u001b[39m_poll():\n",
      "File \u001b[0;32m~/miniconda3/envs/mtmt/lib/python3.9/multiprocessing/connection.py:257\u001b[0m, in \u001b[0;36m_ConnectionBase.poll\u001b[0;34m(self, timeout)\u001b[0m\n\u001b[1;32m    255\u001b[0m \u001b[38;5;28mself\u001b[39m\u001b[38;5;241m.\u001b[39m_check_closed()\n\u001b[1;32m    256\u001b[0m \u001b[38;5;28mself\u001b[39m\u001b[38;5;241m.\u001b[39m_check_readable()\n\u001b[0;32m--> 257\u001b[0m \u001b[38;5;28;01mreturn\u001b[39;00m \u001b[38;5;28;43mself\u001b[39;49m\u001b[38;5;241;43m.\u001b[39;49m\u001b[43m_poll\u001b[49m\u001b[43m(\u001b[49m\u001b[43mtimeout\u001b[49m\u001b[43m)\u001b[49m\n",
      "File \u001b[0;32m~/miniconda3/envs/mtmt/lib/python3.9/multiprocessing/connection.py:424\u001b[0m, in \u001b[0;36mConnection._poll\u001b[0;34m(self, timeout)\u001b[0m\n\u001b[1;32m    423\u001b[0m \u001b[38;5;28;01mdef\u001b[39;00m \u001b[38;5;21m_poll\u001b[39m(\u001b[38;5;28mself\u001b[39m, timeout):\n\u001b[0;32m--> 424\u001b[0m     r \u001b[38;5;241m=\u001b[39m \u001b[43mwait\u001b[49m\u001b[43m(\u001b[49m\u001b[43m[\u001b[49m\u001b[38;5;28;43mself\u001b[39;49m\u001b[43m]\u001b[49m\u001b[43m,\u001b[49m\u001b[43m \u001b[49m\u001b[43mtimeout\u001b[49m\u001b[43m)\u001b[49m\n\u001b[1;32m    425\u001b[0m     \u001b[38;5;28;01mreturn\u001b[39;00m \u001b[38;5;28mbool\u001b[39m(r)\n",
      "File \u001b[0;32m~/miniconda3/envs/mtmt/lib/python3.9/multiprocessing/connection.py:931\u001b[0m, in \u001b[0;36mwait\u001b[0;34m(object_list, timeout)\u001b[0m\n\u001b[1;32m    928\u001b[0m     deadline \u001b[38;5;241m=\u001b[39m time\u001b[38;5;241m.\u001b[39mmonotonic() \u001b[38;5;241m+\u001b[39m timeout\n\u001b[1;32m    930\u001b[0m \u001b[38;5;28;01mwhile\u001b[39;00m \u001b[38;5;28;01mTrue\u001b[39;00m:\n\u001b[0;32m--> 931\u001b[0m     ready \u001b[38;5;241m=\u001b[39m \u001b[43mselector\u001b[49m\u001b[38;5;241;43m.\u001b[39;49m\u001b[43mselect\u001b[49m\u001b[43m(\u001b[49m\u001b[43mtimeout\u001b[49m\u001b[43m)\u001b[49m\n\u001b[1;32m    932\u001b[0m     \u001b[38;5;28;01mif\u001b[39;00m ready:\n\u001b[1;32m    933\u001b[0m         \u001b[38;5;28;01mreturn\u001b[39;00m [key\u001b[38;5;241m.\u001b[39mfileobj \u001b[38;5;28;01mfor\u001b[39;00m (key, events) \u001b[38;5;129;01min\u001b[39;00m ready]\n",
      "File \u001b[0;32m~/miniconda3/envs/mtmt/lib/python3.9/selectors.py:416\u001b[0m, in \u001b[0;36m_PollLikeSelector.select\u001b[0;34m(self, timeout)\u001b[0m\n\u001b[1;32m    414\u001b[0m ready \u001b[38;5;241m=\u001b[39m []\n\u001b[1;32m    415\u001b[0m \u001b[38;5;28;01mtry\u001b[39;00m:\n\u001b[0;32m--> 416\u001b[0m     fd_event_list \u001b[38;5;241m=\u001b[39m \u001b[38;5;28;43mself\u001b[39;49m\u001b[38;5;241;43m.\u001b[39;49m\u001b[43m_selector\u001b[49m\u001b[38;5;241;43m.\u001b[39;49m\u001b[43mpoll\u001b[49m\u001b[43m(\u001b[49m\u001b[43mtimeout\u001b[49m\u001b[43m)\u001b[49m\n\u001b[1;32m    417\u001b[0m \u001b[38;5;28;01mexcept\u001b[39;00m \u001b[38;5;167;01mInterruptedError\u001b[39;00m:\n\u001b[1;32m    418\u001b[0m     \u001b[38;5;28;01mreturn\u001b[39;00m ready\n",
      "\u001b[0;31mKeyboardInterrupt\u001b[0m: "
     ]
    }
   ],
   "source": [
    "# model()\n",
    "batch = next(iter(train_loader))\n",
    "seq = batch[\"seq\"].to(device)\n",
    "mask = batch[\"mask\"].to(device)\n",
    "\n",
    "# Pass through the model\n",
    "loss, losses = model(seq, return_list=True, mask=mask)\n",
    "losses"
   ]
  },
  {
   "cell_type": "code",
   "execution_count": null,
   "metadata": {},
   "outputs": [
    {
     "data": {
      "text/plain": [
       "tensor([[[  0,   0,   0,   0,   0,   0],\n",
       "         [  1,   0,   0,   0,   0,  26],\n",
       "         [  1,   0,   0,   0,   0,  27],\n",
       "         ...,\n",
       "         [  3, 159,  10,  82,   3,  26],\n",
       "         [  3, 160,   1,  53,  20,  28],\n",
       "         [  4,   0,   0,   0,   0,   0]]], device='cuda:0')"
      ]
     },
     "execution_count": 41,
     "metadata": {},
     "output_type": "execute_result"
    }
   ],
   "source": [
    "seq"
   ]
  },
  {
   "cell_type": "code",
   "execution_count": null,
   "metadata": {},
   "outputs": [
    {
     "data": {
      "text/plain": [
       "\"tensor([[[  0,   0,   0,   0,   0,   0],\\n         [  1,   0,   0,   0,   0,  26],\\n         [  1,   0,   0,   0,   0,  27],\\n         ...,\\n         [  3, 159,  10,  82,   3,  26],\\n         [  3, 160,   1,  53,  20,  28],\\n         [  4,   0,   0,   0,   0,   0]]], device='cuda:0')\""
      ]
     },
     "execution_count": 40,
     "metadata": {},
     "output_type": "execute_result"
    }
   ],
   "source": [
    "str(seq)"
   ]
  },
  {
   "cell_type": "code",
   "execution_count": null,
   "metadata": {},
   "outputs": [
    {
     "data": {
      "text/plain": [
       "tensor(1.)"
      ]
     },
     "execution_count": 39,
     "metadata": {},
     "output_type": "execute_result"
    }
   ],
   "source": [
    "bleu_score([str(seq)], [str(seq)])"
   ]
  },
  {
   "cell_type": "code",
   "execution_count": null,
   "metadata": {},
   "outputs": [
    {
     "data": {
      "text/plain": [
       "['name', 'seq', 'seq_len', 'mask']"
      ]
     },
     "execution_count": 29,
     "metadata": {},
     "output_type": "execute_result"
    }
   ],
   "source": [
    "list(batch.keys())"
   ]
  }
 ],
 "metadata": {
  "kernelspec": {
   "display_name": "mtmt",
   "language": "python",
   "name": "python3"
  },
  "language_info": {
   "codemirror_mode": {
    "name": "ipython",
    "version": 3
   },
   "file_extension": ".py",
   "mimetype": "text/x-python",
   "name": "python",
   "nbconvert_exporter": "python",
   "pygments_lexer": "ipython3",
   "version": "3.9.18"
  }
 },
 "nbformat": 4,
 "nbformat_minor": 2
}
